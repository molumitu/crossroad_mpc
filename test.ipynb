{
 "metadata": {
  "language_info": {
   "codemirror_mode": {
    "name": "ipython",
    "version": 3
   },
   "file_extension": ".py",
   "mimetype": "text/x-python",
   "name": "python",
   "nbconvert_exporter": "python",
   "pygments_lexer": "ipython3",
   "version": "3.8.3-final"
  },
  "orig_nbformat": 2,
  "kernelspec": {
   "name": "python3",
   "display_name": "Python 3",
   "language": "python"
  }
 },
 "nbformat": 4,
 "nbformat_minor": 2,
 "cells": [
  {
   "cell_type": "code",
   "execution_count": 5,
   "metadata": {},
   "outputs": [
    {
     "output_type": "execute_result",
     "data": {
      "text/plain": [
       "{'left': ['ud', 'ud'],\n",
       " 'straight': ['dl', 'du', 'du', 'ud', 'ud', 'ru', 'ru', 'ur', 'ur'],\n",
       " 'right': ['dr', 'ur', 'ur', 'lr', 'lr']}"
      ]
     },
     "metadata": {},
     "execution_count": 5
    }
   ],
   "source": [
    "from collections import OrderedDict\n",
    "VEHICLE_MODE_DICT = dict(\n",
    "    #left=OrderedDict(dl=2, du=2, ud=2, ul=2),\n",
    "    left  = OrderedDict(dl=0, du=0, ud=2, ul=0),\n",
    "                         straight=OrderedDict(dl=1, du=2, ud=2, ru=2, ur=2),\n",
    "                         right=OrderedDict(dr=1, ur=2, lr=2))\n",
    "\n",
    "def dict2flat(inp):\n",
    "    out = []\n",
    "    for key, val in inp.items():\n",
    "        out.extend([key]*val)\n",
    "    return out\n",
    "\n",
    "def dict2num(inp):\n",
    "    out = 0\n",
    "    for _, val in inp.items():\n",
    "        out += val\n",
    "    return out\n",
    "\n",
    "VEH_NUM = dict(left=dict2num(VEHICLE_MODE_DICT['left']),\n",
    "               straight=dict2num(VEHICLE_MODE_DICT['straight']),\n",
    "               right=dict2num(VEHICLE_MODE_DICT['right']))\n",
    "\n",
    "VEHICLE_MODE_LIST = dict(left=dict2flat(VEHICLE_MODE_DICT['left']),\n",
    "                         straight=dict2flat(VEHICLE_MODE_DICT['straight']),\n",
    "                         right=dict2flat(VEHICLE_MODE_DICT['right']))\n",
    "VEHICLE_MODE_LIST"
   ]
  },
  {
   "cell_type": "code",
   "execution_count": 6,
   "metadata": {},
   "outputs": [
    {
     "output_type": "execute_result",
     "data": {
      "text/plain": [
       "{'left': 2, 'straight': 9, 'right': 5}"
      ]
     },
     "metadata": {},
     "execution_count": 6
    }
   ],
   "source": [
    "VEH_NUM"
   ]
  },
  {
   "cell_type": "code",
   "execution_count": 16,
   "metadata": {},
   "outputs": [],
   "source": [
    "%matplotlib inline\n",
    "import matplotlib.pyplot as plt"
   ]
  },
  {
   "cell_type": "code",
   "execution_count": 22,
   "metadata": {},
   "outputs": [
    {
     "output_type": "execute_result",
     "data": {
      "text/plain": [
       "array([[1],\n",
       "       [2],\n",
       "       [3],\n",
       "       [4]])"
      ]
     },
     "metadata": {},
     "execution_count": 22
    }
   ],
   "source": [
    "import numpy as np\n",
    "np.stack([[1],[2],[3],[4]],0)"
   ]
  },
  {
   "cell_type": "code",
   "execution_count": 36,
   "metadata": {},
   "outputs": [
    {
     "output_type": "error",
     "ename": "SyntaxError",
     "evalue": "invalid syntax (<ipython-input-36-1bc85eec3546>, line 3)",
     "traceback": [
      "\u001b[1;36m  File \u001b[1;32m\"<ipython-input-36-1bc85eec3546>\"\u001b[1;36m, line \u001b[1;32m3\u001b[0m\n\u001b[1;33m    xs_reduced =\u001b[0m\n\u001b[1;37m                 ^\u001b[0m\n\u001b[1;31mSyntaxError\u001b[0m\u001b[1;31m:\u001b[0m invalid syntax\n"
     ]
    }
   ],
   "source": [
    "\n",
    "xs = np.array([i for i in range(100)])\n",
    "reduced = np.arange(0, 100, 10)\n",
    "xs_reduced = xs()\n"
   ]
  },
  {
   "cell_type": "code",
   "execution_count": 28,
   "metadata": {},
   "outputs": [
    {
     "output_type": "execute_result",
     "data": {
      "text/plain": [
       "array([[ 0,  0,  0,  0,  0,  0,  0,  0,  0,  0],\n",
       "       [10, 10, 10, 10, 10, 10, 10, 10, 10, 10],\n",
       "       [20, 20, 20, 20, 20, 20, 20, 20, 20, 20],\n",
       "       [30, 30, 30, 30, 30, 30, 30, 30, 30, 30],\n",
       "       [40, 40, 40, 40, 40, 40, 40, 40, 40, 40],\n",
       "       [50, 50, 50, 50, 50, 50, 50, 50, 50, 50],\n",
       "       [60, 60, 60, 60, 60, 60, 60, 60, 60, 60],\n",
       "       [70, 70, 70, 70, 70, 70, 70, 70, 70, 70],\n",
       "       [80, 80, 80, 80, 80, 80, 80, 80, 80, 80],\n",
       "       [90, 90, 90, 90, 90, 90, 90, 90, 90, 90]])"
      ]
     },
     "metadata": {},
     "execution_count": 28
    }
   ],
   "source": [
    "xs_tile = np.tile(np.reshape(xs, (-1, 1)), [1, 10])\n",
    "xs_tile"
   ]
  },
  {
   "cell_type": "code",
   "execution_count": 48,
   "metadata": {},
   "outputs": [
    {
     "output_type": "execute_result",
     "data": {
      "text/plain": [
       "array([10], dtype=int64)"
      ]
     },
     "metadata": {},
     "execution_count": 48
    }
   ],
   "source": [
    "x = np.array([i for i in range(100)])\n",
    "y = np.array([i for i in range(100)])\n",
    "xs = np.array([12])\n",
    "ys = np.array([12])\n",
    "path_len = 100\n",
    "ratio = 10\n",
    "reduced_idx = np.arange(0, path_len, ratio)\n",
    "reduced_len = len(reduced_idx)\n",
    "reduced_path_x, reduced_path_y = x[reduced_idx], y[reduced_idx]\n",
    "\n",
    "xs_tile = np.tile(np.reshape(xs, (-1, 1)), [1, reduced_len])\n",
    "ys_tile = np.tile(np.reshape(ys, (-1, 1)), [1, reduced_len])\n",
    "\n",
    "pathx_tile = np.tile(np.reshape(reduced_path_x, (1, -1)), [len(xs), 1])\n",
    "pathy_tile = np.tile(np.reshape(reduced_path_y, (1, -1)), [len(ys), 1])\n",
    "\n",
    "dist_array = np.square(xs_tile - pathx_tile) + np.square(ys_tile - pathy_tile)\n",
    "\n",
    "indexs = np.argmin(dist_array, 1) * ratio\n",
    "indexs"
   ]
  },
  {
   "cell_type": "code",
   "execution_count": 50,
   "metadata": {},
   "outputs": [
    {
     "output_type": "execute_result",
     "data": {
      "text/plain": [
       "array([[  288,     8,   128,   648,  1568,  2888,  4608,  6728,  9248,\n",
       "        12168]], dtype=int32)"
      ]
     },
     "metadata": {},
     "execution_count": 50
    }
   ],
   "source": [
    "dist_array"
   ]
  },
  {
   "cell_type": "code",
   "execution_count": 58,
   "metadata": {},
   "outputs": [
    {
     "output_type": "execute_result",
     "data": {
      "text/plain": [
       "array([ 288,    8,  128,  648, 1568, 2888, 4608, 6728,    1,    1])"
      ]
     },
     "metadata": {},
     "execution_count": 58
    }
   ],
   "source": [
    "np.concatenate((dist_array.squeeze()[:-2],np.array([1,1])),axis = 0)"
   ]
  },
  {
   "cell_type": "code",
   "execution_count": 59,
   "metadata": {},
   "outputs": [
    {
     "output_type": "execute_result",
     "data": {
      "text/plain": [
       "array([ 9248, 12168], dtype=int32)"
      ]
     },
     "metadata": {},
     "execution_count": 59
    }
   ],
   "source": [
    "dist_array.squeeze()[-2:]"
   ]
  },
  {
   "cell_type": "code",
   "execution_count": 6,
   "metadata": {},
   "outputs": [
    {
     "output_type": "execute_result",
     "data": {
      "text/plain": [
       "array([1, 1, 2])"
      ]
     },
     "metadata": {},
     "execution_count": 6
    }
   ],
   "source": [
    "import numpy as np \n",
    "a = np.array([1, 1, 2])\n",
    "a"
   ]
  },
  {
   "cell_type": "code",
   "execution_count": 4,
   "metadata": {},
   "outputs": [
    {
     "output_type": "execute_result",
     "data": {
      "text/plain": [
       "array([[1, 1, 2]])"
      ]
     },
     "metadata": {},
     "execution_count": 4
    }
   ],
   "source": [
    "a[np.newaxis,:]"
   ]
  },
  {
   "cell_type": "code",
   "execution_count": 14,
   "metadata": {},
   "outputs": [
    {
     "output_type": "execute_result",
     "data": {
      "text/plain": [
       "array([ 1,  2,  3,  4,  5,  6,  7,  8,  9, 10])"
      ]
     },
     "metadata": {},
     "execution_count": 14
    }
   ],
   "source": [
    "rise = np.array([i+1 for i in range(10)])\n",
    "rise"
   ]
  },
  {
   "cell_type": "code",
   "execution_count": 12,
   "metadata": {},
   "outputs": [
    {
     "output_type": "execute_result",
     "data": {
      "text/plain": [
       "array([0.3, 0.3, 0.3, 0.3, 0.3, 0.3, 0.3, 0.3, 0.3, 0.3])"
      ]
     },
     "metadata": {},
     "execution_count": 12
    }
   ],
   "source": [
    "base = 0.3*np.ones((10))\n",
    "base"
   ]
  },
  {
   "cell_type": "code",
   "execution_count": 17,
   "metadata": {},
   "outputs": [],
   "source": [
    "x = base + rise*0.2"
   ]
  },
  {
   "cell_type": "code",
   "execution_count": 18,
   "metadata": {},
   "outputs": [],
   "source": [
    "y = 2*x"
   ]
  },
  {
   "cell_type": "code",
   "execution_count": 19,
   "metadata": {},
   "outputs": [
    {
     "output_type": "execute_result",
     "data": {
      "text/plain": [
       "array([0.5, 0.7, 0.9, 1.1, 1.3, 1.5, 1.7, 1.9, 2.1, 2.3])"
      ]
     },
     "metadata": {},
     "execution_count": 19
    }
   ],
   "source": [
    "x"
   ]
  },
  {
   "cell_type": "code",
   "execution_count": 20,
   "metadata": {},
   "outputs": [
    {
     "output_type": "execute_result",
     "data": {
      "text/plain": [
       "array([1. , 1.4, 1.8, 2.2, 2.6, 3. , 3.4, 3.8, 4.2, 4.6])"
      ]
     },
     "metadata": {},
     "execution_count": 20
    }
   ],
   "source": [
    "y"
   ]
  },
  {
   "cell_type": "code",
   "execution_count": 22,
   "metadata": {},
   "outputs": [],
   "source": [
    "v_array = np.zeros((10,2))"
   ]
  },
  {
   "cell_type": "code",
   "execution_count": 23,
   "metadata": {},
   "outputs": [],
   "source": [
    "v_array[:,0] = x\n",
    "v_array[:,1] = y\n",
    "\n"
   ]
  },
  {
   "cell_type": "code",
   "execution_count": 28,
   "metadata": {},
   "outputs": [
    {
     "output_type": "execute_result",
     "data": {
      "text/plain": [
       "array([[[0.83835052, 0.16850924, 0.73938438, 0.33385085],\n",
       "        [0.51309012, 0.10838823, 0.27328736, 0.57208142],\n",
       "        [0.42852293, 0.45620257, 0.02917842, 0.80780282],\n",
       "        [0.61139925, 0.93947828, 0.09269895, 0.09110239],\n",
       "        [0.67170893, 0.25336044, 0.75597621, 0.21158303],\n",
       "        [0.87793707, 0.06982368, 0.36200033, 0.53631523],\n",
       "        [0.2120713 , 0.9098342 , 0.45832738, 0.30003375],\n",
       "        [0.12408416, 0.71844199, 0.6255274 , 0.26552791],\n",
       "        [0.93809428, 0.04073037, 0.00467804, 0.38388138],\n",
       "        [0.03247573, 0.67479196, 0.15098118, 0.94474755]],\n",
       "\n",
       "       [[0.10900556, 0.56949447, 0.40148603, 0.79309771],\n",
       "        [0.29679783, 0.99274772, 0.49716083, 0.73416803],\n",
       "        [0.38876991, 0.4936184 , 0.75572476, 0.91716446],\n",
       "        [0.14368901, 0.32339614, 0.71273607, 0.10661947],\n",
       "        [0.64635517, 0.29743102, 0.70637633, 0.39968449],\n",
       "        [0.40095635, 0.00390482, 0.05750116, 0.4734398 ],\n",
       "        [0.47566167, 0.67452176, 0.2770818 , 0.41135684],\n",
       "        [0.86396521, 0.27800694, 0.48409577, 0.17954072],\n",
       "        [0.08799756, 0.54910227, 0.39268606, 0.89659889],\n",
       "        [0.02119524, 0.55992855, 0.14711016, 0.21255269]]])"
      ]
     },
     "metadata": {},
     "execution_count": 28
    }
   ],
   "source": [
    "x = np.random.random((2,10,4))\n",
    "x"
   ]
  },
  {
   "cell_type": "code",
   "execution_count": 29,
   "metadata": {},
   "outputs": [
    {
     "output_type": "execute_result",
     "data": {
      "text/plain": [
       "array([[0.83835052, 0.16850924, 0.73938438, 0.33385085],\n",
       "       [0.10900556, 0.56949447, 0.40148603, 0.79309771]])"
      ]
     },
     "metadata": {},
     "execution_count": 29
    }
   ],
   "source": [
    "x[:,0,:]"
   ]
  },
  {
   "cell_type": "code",
   "execution_count": 30,
   "metadata": {},
   "outputs": [
    {
     "output_type": "execute_result",
     "data": {
      "text/plain": [
       "(2, 4)"
      ]
     },
     "metadata": {},
     "execution_count": 30
    }
   ],
   "source": [
    "x[:,0,:].shape"
   ]
  },
  {
   "cell_type": "code",
   "execution_count": 37,
   "metadata": {},
   "outputs": [],
   "source": [
    "veh_current_array = x[:,0,:]\n",
    "ego = [1,2,3,4]\n"
   ]
  },
  {
   "cell_type": "code",
   "execution_count": 38,
   "metadata": {},
   "outputs": [
    {
     "output_type": "execute_result",
     "data": {
      "text/plain": [
       "array([1.8386106 , 1.68529439])"
      ]
     },
     "metadata": {},
     "execution_count": 38
    }
   ],
   "source": [
    "a2 = np.sqrt((veh_current_array[:,0] - ego[0])**2 + (veh_current_array[:,1] - ego[1])**2)\n",
    "a2"
   ]
  },
  {
   "cell_type": "code",
   "execution_count": 36,
   "metadata": {},
   "outputs": [
    {
     "output_type": "execute_result",
     "data": {
      "text/plain": [
       "array([1.95327323, 1.22843415])"
      ]
     },
     "metadata": {},
     "execution_count": 36
    }
   ],
   "source": [
    "a1 = np.sqrt((veh_current_array[:,0] - ego[0])**2 + (veh_current_array[:,1] - ego[1])**2)\n",
    "a1"
   ]
  },
  {
   "cell_type": "code",
   "execution_count": 35,
   "metadata": {},
   "outputs": [],
   "source": [
    "veh_current_array = x[:,1,:]"
   ]
  },
  {
   "cell_type": "code",
   "execution_count": 41,
   "metadata": {},
   "outputs": [
    {
     "output_type": "execute_result",
     "data": {
      "text/plain": [
       "array([1.95327323, 1.22843415, 1.8386106 , 1.68529439])"
      ]
     },
     "metadata": {},
     "execution_count": 41
    }
   ],
   "source": [
    "np.concatenate((a1,a2))"
   ]
  },
  {
   "cell_type": "code",
   "execution_count": 47,
   "metadata": {},
   "outputs": [
    {
     "output_type": "execute_result",
     "data": {
      "text/plain": [
       "array([-0.15217871,  2.13022656,  0.07636724, -0.33787654,  0.13700417,\n",
       "       -0.27798024,  0.0326464 , -0.46600082,  0.15698229,  1.80800782,\n",
       "        0.09091601,  0.42209548, -0.08405783,  0.29343944, -0.17065338,\n",
       "        1.94168359,  0.11307723,  2.09572351, -0.02175348,  0.71670024])"
      ]
     },
     "metadata": {},
     "execution_count": 47
    }
   ],
   "source": [
    "    u = np.random.uniform(low = [-0.2, -1], high = [0.2, 3], size = [10,2]).flatten()\n",
    "    u"
   ]
  },
  {
   "cell_type": "code",
   "execution_count": 1,
   "metadata": {},
   "outputs": [],
   "source": [
    "t1 = [(1,2,3), (4,5,6)]"
   ]
  },
  {
   "cell_type": "code",
   "execution_count": 3,
   "metadata": {},
   "outputs": [],
   "source": [
    "import numpy as np \n",
    "\n"
   ]
  },
  {
   "cell_type": "code",
   "execution_count": 5,
   "metadata": {},
   "outputs": [
    {
     "output_type": "execute_result",
     "data": {
      "text/plain": [
       "-3.0"
      ]
     },
     "metadata": {},
     "execution_count": 5
    }
   ],
   "source": [
    "np.copysign(3, -1)"
   ]
  },
  {
   "cell_type": "code",
   "execution_count": 7,
   "metadata": {},
   "outputs": [],
   "source": [
    "from vehicle import VehicleDynamics\n",
    "v1 = VehicleDynamics()\n",
    "data = np.loadtxt(R\"C:\\Users\\zgj_t\\Desktop\\crossroad_mpc\\result\\record_result2021_03_11_11_05_09.csv\", delimiter=',')"
   ]
  },
  {
   "cell_type": "code",
   "execution_count": 8,
   "metadata": {},
   "outputs": [
    {
     "output_type": "execute_result",
     "data": {
      "text/plain": [
       "(85, 108)"
      ]
     },
     "metadata": {},
     "execution_count": 8
    }
   ],
   "source": [
    "data.shape"
   ]
  },
  {
   "cell_type": "code",
   "execution_count": 11,
   "metadata": {},
   "outputs": [],
   "source": [
    "steer = data[:,0]\n",
    "a_x = data[:,1]"
   ]
  },
  {
   "cell_type": "code",
   "execution_count": 12,
   "metadata": {},
   "outputs": [],
   "source": [
    "ego_init_state = [8, 0, 0, 0, 0, 90]"
   ]
  },
  {
   "cell_type": "code",
   "execution_count": 13,
   "metadata": {},
   "outputs": [],
   "source": [
    "obs = ego_init_state.copy()\n",
    "obs_record = [obs]\n",
    "for i in range(85):\n",
    "    obs, _ = v1.state_trans(obs, [steer[i], a_x[i]], 0.1)\n",
    "    obs_record.append(obs)\n",
    "\n",
    "\n",
    "    "
   ]
  },
  {
   "cell_type": "code",
   "execution_count": 16,
   "metadata": {},
   "outputs": [],
   "source": [
    "result = np.stack(obs_record,0)"
   ]
  },
  {
   "cell_type": "code",
   "execution_count": 18,
   "metadata": {},
   "outputs": [],
   "source": [
    "%matplotlib inline\n",
    "import matplotlib.pyplot as plt \n"
   ]
  },
  {
   "cell_type": "code",
   "execution_count": 20,
   "metadata": {},
   "outputs": [
    {
     "output_type": "execute_result",
     "data": {
      "text/plain": [
       "[<matplotlib.lines.Line2D at 0x2c287842100>]"
      ]
     },
     "metadata": {},
     "execution_count": 20
    },
    {
     "output_type": "display_data",
     "data": {
      "text/plain": "<Figure size 432x288 with 1 Axes>",
      "image/svg+xml": "<?xml version=\"1.0\" encoding=\"utf-8\" standalone=\"no\"?>\r\n<!DOCTYPE svg PUBLIC \"-//W3C//DTD SVG 1.1//EN\"\r\n  \"http://www.w3.org/Graphics/SVG/1.1/DTD/svg11.dtd\">\r\n<!-- Created with matplotlib (https://matplotlib.org/) -->\r\n<svg height=\"248.518125pt\" version=\"1.1\" viewBox=\"0 0 377.304688 248.518125\" width=\"377.304688pt\" xmlns=\"http://www.w3.org/2000/svg\" xmlns:xlink=\"http://www.w3.org/1999/xlink\">\r\n <defs>\r\n  <style type=\"text/css\">\r\n*{stroke-linecap:butt;stroke-linejoin:round;}\r\n  </style>\r\n </defs>\r\n <g id=\"figure_1\">\r\n  <g id=\"patch_1\">\r\n   <path d=\"M 0 248.518125 \r\nL 377.304688 248.518125 \r\nL 377.304688 0 \r\nL 0 0 \r\nz\r\n\" style=\"fill:none;\"/>\r\n  </g>\r\n  <g id=\"axes_1\">\r\n   <g id=\"patch_2\">\r\n    <path d=\"M 35.304688 224.64 \r\nL 370.104688 224.64 \r\nL 370.104688 7.2 \r\nL 35.304688 7.2 \r\nz\r\n\" style=\"fill:#ffffff;\"/>\r\n   </g>\r\n   <g id=\"matplotlib.axis_1\">\r\n    <g id=\"xtick_1\">\r\n     <g id=\"line2d_1\">\r\n      <defs>\r\n       <path d=\"M 0 0 \r\nL 0 3.5 \r\n\" id=\"m97a2bae70a\" style=\"stroke:#000000;stroke-width:0.8;\"/>\r\n      </defs>\r\n      <g>\r\n       <use style=\"stroke:#000000;stroke-width:0.8;\" x=\"50.522869\" xlink:href=\"#m97a2bae70a\" y=\"224.64\"/>\r\n      </g>\r\n     </g>\r\n     <g id=\"text_1\">\r\n      <!-- 0 -->\r\n      <defs>\r\n       <path d=\"M 31.78125 66.40625 \r\nQ 24.171875 66.40625 20.328125 58.90625 \r\nQ 16.5 51.421875 16.5 36.375 \r\nQ 16.5 21.390625 20.328125 13.890625 \r\nQ 24.171875 6.390625 31.78125 6.390625 \r\nQ 39.453125 6.390625 43.28125 13.890625 \r\nQ 47.125 21.390625 47.125 36.375 \r\nQ 47.125 51.421875 43.28125 58.90625 \r\nQ 39.453125 66.40625 31.78125 66.40625 \r\nz\r\nM 31.78125 74.21875 \r\nQ 44.046875 74.21875 50.515625 64.515625 \r\nQ 56.984375 54.828125 56.984375 36.375 \r\nQ 56.984375 17.96875 50.515625 8.265625 \r\nQ 44.046875 -1.421875 31.78125 -1.421875 \r\nQ 19.53125 -1.421875 13.0625 8.265625 \r\nQ 6.59375 17.96875 6.59375 36.375 \r\nQ 6.59375 54.828125 13.0625 64.515625 \r\nQ 19.53125 74.21875 31.78125 74.21875 \r\nz\r\n\" id=\"DejaVuSans-48\"/>\r\n      </defs>\r\n      <g transform=\"translate(47.341619 239.238438)scale(0.1 -0.1)\">\r\n       <use xlink:href=\"#DejaVuSans-48\"/>\r\n      </g>\r\n     </g>\r\n    </g>\r\n    <g id=\"xtick_2\">\r\n     <g id=\"line2d_2\">\r\n      <g>\r\n       <use style=\"stroke:#000000;stroke-width:0.8;\" x=\"100.959807\" xlink:href=\"#m97a2bae70a\" y=\"224.64\"/>\r\n      </g>\r\n     </g>\r\n     <g id=\"text_2\">\r\n      <!-- 10 -->\r\n      <defs>\r\n       <path d=\"M 12.40625 8.296875 \r\nL 28.515625 8.296875 \r\nL 28.515625 63.921875 \r\nL 10.984375 60.40625 \r\nL 10.984375 69.390625 \r\nL 28.421875 72.90625 \r\nL 38.28125 72.90625 \r\nL 38.28125 8.296875 \r\nL 54.390625 8.296875 \r\nL 54.390625 0 \r\nL 12.40625 0 \r\nz\r\n\" id=\"DejaVuSans-49\"/>\r\n      </defs>\r\n      <g transform=\"translate(94.597307 239.238438)scale(0.1 -0.1)\">\r\n       <use xlink:href=\"#DejaVuSans-49\"/>\r\n       <use x=\"63.623047\" xlink:href=\"#DejaVuSans-48\"/>\r\n      </g>\r\n     </g>\r\n    </g>\r\n    <g id=\"xtick_3\">\r\n     <g id=\"line2d_3\">\r\n      <g>\r\n       <use style=\"stroke:#000000;stroke-width:0.8;\" x=\"151.396744\" xlink:href=\"#m97a2bae70a\" y=\"224.64\"/>\r\n      </g>\r\n     </g>\r\n     <g id=\"text_3\">\r\n      <!-- 20 -->\r\n      <defs>\r\n       <path d=\"M 19.1875 8.296875 \r\nL 53.609375 8.296875 \r\nL 53.609375 0 \r\nL 7.328125 0 \r\nL 7.328125 8.296875 \r\nQ 12.9375 14.109375 22.625 23.890625 \r\nQ 32.328125 33.6875 34.8125 36.53125 \r\nQ 39.546875 41.84375 41.421875 45.53125 \r\nQ 43.3125 49.21875 43.3125 52.78125 \r\nQ 43.3125 58.59375 39.234375 62.25 \r\nQ 35.15625 65.921875 28.609375 65.921875 \r\nQ 23.96875 65.921875 18.8125 64.3125 \r\nQ 13.671875 62.703125 7.8125 59.421875 \r\nL 7.8125 69.390625 \r\nQ 13.765625 71.78125 18.9375 73 \r\nQ 24.125 74.21875 28.421875 74.21875 \r\nQ 39.75 74.21875 46.484375 68.546875 \r\nQ 53.21875 62.890625 53.21875 53.421875 \r\nQ 53.21875 48.921875 51.53125 44.890625 \r\nQ 49.859375 40.875 45.40625 35.40625 \r\nQ 44.1875 33.984375 37.640625 27.21875 \r\nQ 31.109375 20.453125 19.1875 8.296875 \r\nz\r\n\" id=\"DejaVuSans-50\"/>\r\n      </defs>\r\n      <g transform=\"translate(145.034244 239.238438)scale(0.1 -0.1)\">\r\n       <use xlink:href=\"#DejaVuSans-50\"/>\r\n       <use x=\"63.623047\" xlink:href=\"#DejaVuSans-48\"/>\r\n      </g>\r\n     </g>\r\n    </g>\r\n    <g id=\"xtick_4\">\r\n     <g id=\"line2d_4\">\r\n      <g>\r\n       <use style=\"stroke:#000000;stroke-width:0.8;\" x=\"201.833682\" xlink:href=\"#m97a2bae70a\" y=\"224.64\"/>\r\n      </g>\r\n     </g>\r\n     <g id=\"text_4\">\r\n      <!-- 30 -->\r\n      <defs>\r\n       <path d=\"M 40.578125 39.3125 \r\nQ 47.65625 37.796875 51.625 33 \r\nQ 55.609375 28.21875 55.609375 21.1875 \r\nQ 55.609375 10.40625 48.1875 4.484375 \r\nQ 40.765625 -1.421875 27.09375 -1.421875 \r\nQ 22.515625 -1.421875 17.65625 -0.515625 \r\nQ 12.796875 0.390625 7.625 2.203125 \r\nL 7.625 11.71875 \r\nQ 11.71875 9.328125 16.59375 8.109375 \r\nQ 21.484375 6.890625 26.8125 6.890625 \r\nQ 36.078125 6.890625 40.9375 10.546875 \r\nQ 45.796875 14.203125 45.796875 21.1875 \r\nQ 45.796875 27.640625 41.28125 31.265625 \r\nQ 36.765625 34.90625 28.71875 34.90625 \r\nL 20.21875 34.90625 \r\nL 20.21875 43.015625 \r\nL 29.109375 43.015625 \r\nQ 36.375 43.015625 40.234375 45.921875 \r\nQ 44.09375 48.828125 44.09375 54.296875 \r\nQ 44.09375 59.90625 40.109375 62.90625 \r\nQ 36.140625 65.921875 28.71875 65.921875 \r\nQ 24.65625 65.921875 20.015625 65.03125 \r\nQ 15.375 64.15625 9.8125 62.3125 \r\nL 9.8125 71.09375 \r\nQ 15.4375 72.65625 20.34375 73.4375 \r\nQ 25.25 74.21875 29.59375 74.21875 \r\nQ 40.828125 74.21875 47.359375 69.109375 \r\nQ 53.90625 64.015625 53.90625 55.328125 \r\nQ 53.90625 49.265625 50.4375 45.09375 \r\nQ 46.96875 40.921875 40.578125 39.3125 \r\nz\r\n\" id=\"DejaVuSans-51\"/>\r\n      </defs>\r\n      <g transform=\"translate(195.471182 239.238438)scale(0.1 -0.1)\">\r\n       <use xlink:href=\"#DejaVuSans-51\"/>\r\n       <use x=\"63.623047\" xlink:href=\"#DejaVuSans-48\"/>\r\n      </g>\r\n     </g>\r\n    </g>\r\n    <g id=\"xtick_5\">\r\n     <g id=\"line2d_5\">\r\n      <g>\r\n       <use style=\"stroke:#000000;stroke-width:0.8;\" x=\"252.27062\" xlink:href=\"#m97a2bae70a\" y=\"224.64\"/>\r\n      </g>\r\n     </g>\r\n     <g id=\"text_5\">\r\n      <!-- 40 -->\r\n      <defs>\r\n       <path d=\"M 37.796875 64.3125 \r\nL 12.890625 25.390625 \r\nL 37.796875 25.390625 \r\nz\r\nM 35.203125 72.90625 \r\nL 47.609375 72.90625 \r\nL 47.609375 25.390625 \r\nL 58.015625 25.390625 \r\nL 58.015625 17.1875 \r\nL 47.609375 17.1875 \r\nL 47.609375 0 \r\nL 37.796875 0 \r\nL 37.796875 17.1875 \r\nL 4.890625 17.1875 \r\nL 4.890625 26.703125 \r\nz\r\n\" id=\"DejaVuSans-52\"/>\r\n      </defs>\r\n      <g transform=\"translate(245.90812 239.238438)scale(0.1 -0.1)\">\r\n       <use xlink:href=\"#DejaVuSans-52\"/>\r\n       <use x=\"63.623047\" xlink:href=\"#DejaVuSans-48\"/>\r\n      </g>\r\n     </g>\r\n    </g>\r\n    <g id=\"xtick_6\">\r\n     <g id=\"line2d_6\">\r\n      <g>\r\n       <use style=\"stroke:#000000;stroke-width:0.8;\" x=\"302.707557\" xlink:href=\"#m97a2bae70a\" y=\"224.64\"/>\r\n      </g>\r\n     </g>\r\n     <g id=\"text_6\">\r\n      <!-- 50 -->\r\n      <defs>\r\n       <path d=\"M 10.796875 72.90625 \r\nL 49.515625 72.90625 \r\nL 49.515625 64.59375 \r\nL 19.828125 64.59375 \r\nL 19.828125 46.734375 \r\nQ 21.96875 47.46875 24.109375 47.828125 \r\nQ 26.265625 48.1875 28.421875 48.1875 \r\nQ 40.625 48.1875 47.75 41.5 \r\nQ 54.890625 34.8125 54.890625 23.390625 \r\nQ 54.890625 11.625 47.5625 5.09375 \r\nQ 40.234375 -1.421875 26.90625 -1.421875 \r\nQ 22.3125 -1.421875 17.546875 -0.640625 \r\nQ 12.796875 0.140625 7.71875 1.703125 \r\nL 7.71875 11.625 \r\nQ 12.109375 9.234375 16.796875 8.0625 \r\nQ 21.484375 6.890625 26.703125 6.890625 \r\nQ 35.15625 6.890625 40.078125 11.328125 \r\nQ 45.015625 15.765625 45.015625 23.390625 \r\nQ 45.015625 31 40.078125 35.4375 \r\nQ 35.15625 39.890625 26.703125 39.890625 \r\nQ 22.75 39.890625 18.8125 39.015625 \r\nQ 14.890625 38.140625 10.796875 36.28125 \r\nz\r\n\" id=\"DejaVuSans-53\"/>\r\n      </defs>\r\n      <g transform=\"translate(296.345057 239.238438)scale(0.1 -0.1)\">\r\n       <use xlink:href=\"#DejaVuSans-53\"/>\r\n       <use x=\"63.623047\" xlink:href=\"#DejaVuSans-48\"/>\r\n      </g>\r\n     </g>\r\n    </g>\r\n    <g id=\"xtick_7\">\r\n     <g id=\"line2d_7\">\r\n      <g>\r\n       <use style=\"stroke:#000000;stroke-width:0.8;\" x=\"353.144495\" xlink:href=\"#m97a2bae70a\" y=\"224.64\"/>\r\n      </g>\r\n     </g>\r\n     <g id=\"text_7\">\r\n      <!-- 60 -->\r\n      <defs>\r\n       <path d=\"M 33.015625 40.375 \r\nQ 26.375 40.375 22.484375 35.828125 \r\nQ 18.609375 31.296875 18.609375 23.390625 \r\nQ 18.609375 15.53125 22.484375 10.953125 \r\nQ 26.375 6.390625 33.015625 6.390625 \r\nQ 39.65625 6.390625 43.53125 10.953125 \r\nQ 47.40625 15.53125 47.40625 23.390625 \r\nQ 47.40625 31.296875 43.53125 35.828125 \r\nQ 39.65625 40.375 33.015625 40.375 \r\nz\r\nM 52.59375 71.296875 \r\nL 52.59375 62.3125 \r\nQ 48.875 64.0625 45.09375 64.984375 \r\nQ 41.3125 65.921875 37.59375 65.921875 \r\nQ 27.828125 65.921875 22.671875 59.328125 \r\nQ 17.53125 52.734375 16.796875 39.40625 \r\nQ 19.671875 43.65625 24.015625 45.921875 \r\nQ 28.375 48.1875 33.59375 48.1875 \r\nQ 44.578125 48.1875 50.953125 41.515625 \r\nQ 57.328125 34.859375 57.328125 23.390625 \r\nQ 57.328125 12.15625 50.6875 5.359375 \r\nQ 44.046875 -1.421875 33.015625 -1.421875 \r\nQ 20.359375 -1.421875 13.671875 8.265625 \r\nQ 6.984375 17.96875 6.984375 36.375 \r\nQ 6.984375 53.65625 15.1875 63.9375 \r\nQ 23.390625 74.21875 37.203125 74.21875 \r\nQ 40.921875 74.21875 44.703125 73.484375 \r\nQ 48.484375 72.75 52.59375 71.296875 \r\nz\r\n\" id=\"DejaVuSans-54\"/>\r\n      </defs>\r\n      <g transform=\"translate(346.781995 239.238438)scale(0.1 -0.1)\">\r\n       <use xlink:href=\"#DejaVuSans-54\"/>\r\n       <use x=\"63.623047\" xlink:href=\"#DejaVuSans-48\"/>\r\n      </g>\r\n     </g>\r\n    </g>\r\n   </g>\r\n   <g id=\"matplotlib.axis_2\">\r\n    <g id=\"ytick_1\">\r\n     <g id=\"line2d_8\">\r\n      <defs>\r\n       <path d=\"M 0 0 \r\nL -3.5 0 \r\n\" id=\"mdbfe563a1a\" style=\"stroke:#000000;stroke-width:0.8;\"/>\r\n      </defs>\r\n      <g>\r\n       <use style=\"stroke:#000000;stroke-width:0.8;\" x=\"35.304688\" xlink:href=\"#mdbfe563a1a\" y=\"184.660467\"/>\r\n      </g>\r\n     </g>\r\n     <g id=\"text_8\">\r\n      <!-- −60 -->\r\n      <defs>\r\n       <path d=\"M 10.59375 35.5 \r\nL 73.1875 35.5 \r\nL 73.1875 27.203125 \r\nL 10.59375 27.203125 \r\nz\r\n\" id=\"DejaVuSans-8722\"/>\r\n      </defs>\r\n      <g transform=\"translate(7.2 188.459686)scale(0.1 -0.1)\">\r\n       <use xlink:href=\"#DejaVuSans-8722\"/>\r\n       <use x=\"83.789062\" xlink:href=\"#DejaVuSans-54\"/>\r\n       <use x=\"147.412109\" xlink:href=\"#DejaVuSans-48\"/>\r\n      </g>\r\n     </g>\r\n    </g>\r\n    <g id=\"ytick_2\">\r\n     <g id=\"line2d_9\">\r\n      <g>\r\n       <use style=\"stroke:#000000;stroke-width:0.8;\" x=\"35.304688\" xlink:href=\"#mdbfe563a1a\" y=\"137.612786\"/>\r\n      </g>\r\n     </g>\r\n     <g id=\"text_9\">\r\n      <!-- −40 -->\r\n      <g transform=\"translate(7.2 141.412005)scale(0.1 -0.1)\">\r\n       <use xlink:href=\"#DejaVuSans-8722\"/>\r\n       <use x=\"83.789062\" xlink:href=\"#DejaVuSans-52\"/>\r\n       <use x=\"147.412109\" xlink:href=\"#DejaVuSans-48\"/>\r\n      </g>\r\n     </g>\r\n    </g>\r\n    <g id=\"ytick_3\">\r\n     <g id=\"line2d_10\">\r\n      <g>\r\n       <use style=\"stroke:#000000;stroke-width:0.8;\" x=\"35.304688\" xlink:href=\"#mdbfe563a1a\" y=\"90.565105\"/>\r\n      </g>\r\n     </g>\r\n     <g id=\"text_10\">\r\n      <!-- −20 -->\r\n      <g transform=\"translate(7.2 94.364324)scale(0.1 -0.1)\">\r\n       <use xlink:href=\"#DejaVuSans-8722\"/>\r\n       <use x=\"83.789062\" xlink:href=\"#DejaVuSans-50\"/>\r\n       <use x=\"147.412109\" xlink:href=\"#DejaVuSans-48\"/>\r\n      </g>\r\n     </g>\r\n    </g>\r\n    <g id=\"ytick_4\">\r\n     <g id=\"line2d_11\">\r\n      <g>\r\n       <use style=\"stroke:#000000;stroke-width:0.8;\" x=\"35.304688\" xlink:href=\"#mdbfe563a1a\" y=\"43.517424\"/>\r\n      </g>\r\n     </g>\r\n     <g id=\"text_11\">\r\n      <!-- 0 -->\r\n      <g transform=\"translate(21.942188 47.316643)scale(0.1 -0.1)\">\r\n       <use xlink:href=\"#DejaVuSans-48\"/>\r\n      </g>\r\n     </g>\r\n    </g>\r\n   </g>\r\n   <g id=\"line2d_12\">\r\n    <path clip-path=\"url(#p97033ded8f)\" d=\"M 50.522869 43.517424 \r\nL 50.523151 41.635517 \r\nL 50.524524 39.753618 \r\nL 50.531576 37.871738 \r\nL 50.638593 35.98967 \r\nL 52.259989 34.048244 \r\nL 58.744622 32.66718 \r\nL 68.630244 33.565901 \r\nL 77.370163 36.558281 \r\nL 82.576831 40.075032 \r\nL 84.123974 43.53169 \r\nL 83.619662 46.729369 \r\nL 82.071637 49.627293 \r\nL 79.754046 52.27848 \r\nL 75.877934 54.461366 \r\nL 69.230244 55.396579 \r\nL 61.000259 53.950757 \r\nL 55.00099 50.445033 \r\nL 52.129347 46.533747 \r\nL 51.830044 42.930285 \r\nL 52.789953 39.600041 \r\nL 54.234527 36.451162 \r\nL 55.74036 33.454404 \r\nL 57.214409 30.599295 \r\nL 58.627341 27.882511 \r\nL 59.971253 25.303155 \r\nL 61.244212 22.861007 \r\nL 62.445784 20.55602 \r\nL 64.472778 18.432775 \r\nL 70.881845 17.083636 \r\nL 81.353846 18.245081 \r\nL 90.122014 21.721506 \r\nL 94.263857 25.098861 \r\nL 93.841998 27.429001 \r\nL 92.020925 29.246147 \r\nL 90.115385 30.88011 \r\nL 88.331098 32.384045 \r\nL 86.691248 33.763944 \r\nL 84.993689 34.926116 \r\nL 83.296806 35.900656 \r\nL 81.652518 36.779361 \r\nL 79.937802 37.634362 \r\nL 78.092633 38.488096 \r\nL 76.164777 39.315313 \r\nL 74.168943 40.108712 \r\nL 72.119879 40.862896 \r\nL 70.035729 41.579088 \r\nL 67.935581 42.250553 \r\nL 65.815241 42.879038 \r\nL 63.029516 42.942155 \r\nL 58.236325 40.090695 \r\nL 56.338208 34.265626 \r\nL 58.835113 28.460999 \r\nL 62.677468 25.306876 \r\nL 66.012239 24.80452 \r\nL 68.927117 24.805659 \r\nL 71.466483 24.997703 \r\nL 74.83632 26.86149 \r\nL 77.200498 29.306311 \r\nL 76.260265 31.794159 \r\nL 71.692077 34.63367 \r\nL 68.67032 34.63265 \r\nL 65.236062 32.265224 \r\nL 64.536067 30.135908 \r\nL 66.430813 27.820816 \r\nL 73.604058 23.892941 \r\nL 82.993966 21.078213 \r\nL 96.634927 18.717598 \r\nL 111.551972 17.554759 \r\nL 130.151996 17.698978 \r\nL 148.490088 19.116955 \r\nL 168.822439 22.178298 \r\nL 190.019469 26.812905 \r\nL 210.880847 32.848682 \r\nL 233.513895 40.972241 \r\nL 251.512925 49.507287 \r\nL 268.211308 58.942875 \r\nL 285.542139 70.869264 \r\nL 299.649802 83.069 \r\nL 312.493419 96.785005 \r\nL 324.87265 113.025236 \r\nL 334.301558 129.453955 \r\nL 343.011634 149.221764 \r\nL 349.530352 170.2112 \r\nL 353.532583 191.391529 \r\nL 354.886506 214.756364 \r\n\" style=\"fill:none;stroke:#1f77b4;stroke-linecap:square;stroke-width:1.5;\"/>\r\n   </g>\r\n   <g id=\"patch_3\">\r\n    <path d=\"M 35.304688 224.64 \r\nL 35.304688 7.2 \r\n\" style=\"fill:none;stroke:#000000;stroke-linecap:square;stroke-linejoin:miter;stroke-width:0.8;\"/>\r\n   </g>\r\n   <g id=\"patch_4\">\r\n    <path d=\"M 370.104688 224.64 \r\nL 370.104688 7.2 \r\n\" style=\"fill:none;stroke:#000000;stroke-linecap:square;stroke-linejoin:miter;stroke-width:0.8;\"/>\r\n   </g>\r\n   <g id=\"patch_5\">\r\n    <path d=\"M 35.304688 224.64 \r\nL 370.104688 224.64 \r\n\" style=\"fill:none;stroke:#000000;stroke-linecap:square;stroke-linejoin:miter;stroke-width:0.8;\"/>\r\n   </g>\r\n   <g id=\"patch_6\">\r\n    <path d=\"M 35.304688 7.2 \r\nL 370.104688 7.2 \r\n\" style=\"fill:none;stroke:#000000;stroke-linecap:square;stroke-linejoin:miter;stroke-width:0.8;\"/>\r\n   </g>\r\n  </g>\r\n </g>\r\n <defs>\r\n  <clipPath id=\"p97033ded8f\">\r\n   <rect height=\"217.44\" width=\"334.8\" x=\"35.304688\" y=\"7.2\"/>\r\n  </clipPath>\r\n </defs>\r\n</svg>\r\n",
      "image/png": "[encoded data removed]"
     },
     "metadata": {
      "needs_background": "light"
     }
    }
   ],
   "source": [
    "plt.plot(result[:,3],result[:,4])"
   ]
  },
  {
   "cell_type": "code",
   "execution_count": null,
   "metadata": {},
   "outputs": [],
   "source": [
    "np.loadtxt(f'record_action/record_action_a_x{current_time:%Y_%m_%d_%H_%M_%S}.csv', record_action_a_x, delimiter = ',')"
   ]
  },
  {
   "cell_type": "code",
   "execution_count": 11,
   "metadata": {},
   "outputs": [],
   "source": [
    "import pickle\n",
    "with open(R'C:\\Users\\zgj_t\\Desktop\\crossroad_mpc\\visualization\\data\\2021_04_14_22_36_00\\ego.pickle', 'rb') as f:\n",
    "    ego = pickle.load(f)\n"
   ]
  },
  {
   "cell_type": "code",
   "execution_count": 21,
   "metadata": {},
   "outputs": [
    {
     "output_type": "execute_result",
     "data": {
      "text/plain": [
       "0.5068556165714211"
      ]
     },
     "metadata": {},
     "execution_count": 21
    }
   ],
   "source": [
    "import traci\n",
    "env[0]['carflow_1.1.0'][traci.constants.VAR_SPEED]\n",
    "\n"
   ]
  },
  {
   "cell_type": "code",
   "execution_count": 14,
   "metadata": {},
   "outputs": [
    {
     "output_type": "execute_result",
     "data": {
      "text/plain": [
       "[{'ego1': None, 'ego4': None, 'ego5': None, 'ego8': None},\n",
       " {'ego1': None, 'ego4': None, 'ego5': None, 'ego8': None},\n",
       " {'ego1': None, 'ego4': None, 'ego5': None, 'ego8': None},\n",
       " {'ego1': None, 'ego4': None, 'ego5': None, 'ego8': None},\n",
       " {'ego1': None, 'ego4': None, 'ego5': None, 'ego8': None},\n",
       " {'ego1': None, 'ego4': None, 'ego5': None, 'ego8': None},\n",
       " {'ego1': None, 'ego4': None, 'ego5': None, 'ego8': None},\n",
       " {'ego1': None, 'ego4': None, 'ego5': None, 'ego8': None},\n",
       " {'ego1': None, 'ego4': None, 'ego5': None, 'ego8': None},\n",
       " {'ego1': None, 'ego4': None, 'ego5': None, 'ego8': None},\n",
       " {'ego1': None, 'ego4': None, 'ego5': None, 'ego8': None},\n",
       " {'ego1': None, 'ego4': None, 'ego5': None, 'ego8': None},\n",
       " {'ego1': None, 'ego4': None, 'ego5': None, 'ego8': None},\n",
       " {'ego1': None, 'ego4': None, 'ego5': None, 'ego8': None},\n",
       " {'ego1': None, 'ego4': None, 'ego5': None, 'ego8': None},\n",
       " {'ego1': None, 'ego4': None, 'ego5': None, 'ego8': None},\n",
       " {'ego1': None, 'ego4': None, 'ego5': None, 'ego8': None},\n",
       " {'ego1': None, 'ego4': None, 'ego5': None, 'ego8': None},\n",
       " {'ego1': None, 'ego4': None, 'ego5': None, 'ego8': None},\n",
       " {'ego1': None, 'ego4': None, 'ego5': None, 'ego8': None},\n",
       " {'ego1': None, 'ego4': None, 'ego5': None, 'ego8': None},\n",
       " {'ego1': None, 'ego4': None, 'ego5': None, 'ego8': None},\n",
       " {'ego1': None, 'ego4': None, 'ego5': None, 'ego8': None},\n",
       " {'ego1': None, 'ego4': None, 'ego5': None, 'ego8': None},\n",
       " {'ego1': None, 'ego4': None, 'ego5': None, 'ego8': None},\n",
       " {'ego1': None, 'ego4': None, 'ego5': None, 'ego8': None},\n",
       " {'ego1': None, 'ego4': None, 'ego5': None, 'ego8': None},\n",
       " {'ego1': None, 'ego4': None, 'ego5': None, 'ego8': None},\n",
       " {'ego1': None, 'ego4': None, 'ego5': None, 'ego8': None},\n",
       " {'ego1': None, 'ego4': None, 'ego5': None, 'ego8': None},\n",
       " {'ego1': None, 'ego4': None, 'ego5': None, 'ego8': None},\n",
       " {'ego1': None, 'ego4': None, 'ego5': None, 'ego8': None},\n",
       " {'ego1': None, 'ego4': None, 'ego5': None, 'ego8': None},\n",
       " {'ego1': None, 'ego4': None, 'ego5': None, 'ego8': None},\n",
       " {'ego1': None, 'ego4': None, 'ego5': None, 'ego8': None},\n",
       " {'ego1': None, 'ego4': None, 'ego5': None, 'ego8': None},\n",
       " {'ego1': None, 'ego4': None, 'ego5': None, 'ego8': None},\n",
       " {'ego1': None, 'ego4': None, 'ego5': None, 'ego8': None},\n",
       " {'ego1': None, 'ego4': None, 'ego5': None, 'ego8': None},\n",
       " {'ego1': None, 'ego4': None, 'ego5': None, 'ego8': None},\n",
       " {'ego1': None, 'ego4': None, 'ego5': None, 'ego8': None},\n",
       " {'ego1': None, 'ego4': None, 'ego5': None, 'ego8': None},\n",
       " {'ego1': None, 'ego4': None, 'ego5': None, 'ego8': None},\n",
       " {'ego1': None, 'ego4': None, 'ego5': None, 'ego8': None},\n",
       " {'ego1': None, 'ego4': None, 'ego5': None, 'ego8': None},\n",
       " {'ego1': None, 'ego4': None, 'ego5': None, 'ego8': None},\n",
       " {'ego1': None, 'ego4': None, 'ego5': None, 'ego8': None},\n",
       " {'ego1': None, 'ego4': None, 'ego5': None, 'ego8': None},\n",
       " {'ego1': None, 'ego4': None, 'ego5': None, 'ego8': None},\n",
       " {'ego1': None, 'ego4': None, 'ego5': None, 'ego8': None},\n",
       " {'ego1': None, 'ego4': None, 'ego5': None, 'ego8': None},\n",
       " {'ego1': None, 'ego4': None, 'ego5': None, 'ego8': None},\n",
       " {'ego1': None, 'ego4': None, 'ego5': None, 'ego8': None},\n",
       " {'ego1': None, 'ego4': None, 'ego5': None, 'ego8': None},\n",
       " {'ego1': None, 'ego4': None, 'ego5': None, 'ego8': None},\n",
       " {'ego1': None, 'ego4': None, 'ego5': None, 'ego8': None},\n",
       " {'ego1': None, 'ego4': None, 'ego5': None, 'ego8': None},\n",
       " {'ego1': None, 'ego4': None, 'ego5': None, 'ego8': None},\n",
       " {'ego1': None, 'ego4': None, 'ego5': None, 'ego8': None},\n",
       " {'ego1': None, 'ego4': None, 'ego5': None, 'ego8': None},\n",
       " {'ego1': None, 'ego4': None, 'ego5': None, 'ego8': None},\n",
       " {'ego1': None, 'ego4': None, 'ego5': None, 'ego8': None},\n",
       " {'ego1': None, 'ego4': None, 'ego5': None, 'ego8': None},\n",
       " {'ego1': None, 'ego4': None, 'ego5': None, 'ego8': None},\n",
       " {'ego1': None, 'ego4': None, 'ego5': None, 'ego8': None},\n",
       " {'ego1': None, 'ego4': None, 'ego5': None, 'ego8': None},\n",
       " {'ego1': None, 'ego4': None, 'ego5': None, 'ego8': None},\n",
       " {'ego1': None, 'ego4': None, 'ego5': None, 'ego8': None},\n",
       " {'ego1': None, 'ego4': None, 'ego5': None, 'ego8': None},\n",
       " {'ego1': None, 'ego4': None, 'ego5': None, 'ego8': None},\n",
       " {'ego1': None, 'ego4': None, 'ego5': None, 'ego8': None},\n",
       " {'ego1': None, 'ego4': None, 'ego5': None, 'ego8': None},\n",
       " {'ego1': None, 'ego4': None, 'ego5': None, 'ego8': None},\n",
       " {'ego1': None, 'ego4': None, 'ego5': None, 'ego8': None},\n",
       " {'ego1': None, 'ego4': None, 'ego5': None, 'ego8': None},\n",
       " {'ego1': None, 'ego4': None, 'ego5': None, 'ego8': None},\n",
       " {'ego1': None, 'ego4': None, 'ego5': None, 'ego8': None},\n",
       " {'ego1': None, 'ego4': None, 'ego5': None, 'ego8': None},\n",
       " {'ego1': None, 'ego4': None, 'ego5': None, 'ego8': None},\n",
       " {'ego1': None, 'ego4': None, 'ego5': None, 'ego8': None},\n",
       " {'ego1': None, 'ego4': None, 'ego5': None, 'ego8': None},\n",
       " {'ego1': None, 'ego4': None, 'ego5': None, 'ego8': None},\n",
       " {'ego1': None, 'ego4': None, 'ego5': None, 'ego8': None},\n",
       " {'ego1': None, 'ego4': None, 'ego5': None, 'ego8': None},\n",
       " {'ego1': None, 'ego4': None, 'ego5': None, 'ego8': None},\n",
       " {'ego1': None, 'ego4': None, 'ego5': None, 'ego8': None},\n",
       " {'ego1': None, 'ego4': None, 'ego5': None, 'ego8': None},\n",
       " {'ego1': None, 'ego4': None, 'ego5': None, 'ego8': None},\n",
       " {'ego1': None, 'ego4': None, 'ego5': None, 'ego8': None},\n",
       " {'ego1': None, 'ego4': None, 'ego5': None, 'ego8': None},\n",
       " {'ego1': None, 'ego4': None, 'ego5': None, 'ego8': None},\n",
       " {'ego1': None, 'ego4': None, 'ego5': None, 'ego8': None},\n",
       " {'ego1': None, 'ego4': None, 'ego5': None, 'ego8': None},\n",
       " {'ego1': None, 'ego4': None, 'ego5': None, 'ego8': None},\n",
       " {'ego1': None, 'ego4': None, 'ego5': None, 'ego8': None},\n",
       " {'ego1': None, 'ego4': None, 'ego5': None, 'ego8': None},\n",
       " {'ego1': None, 'ego4': None, 'ego5': None, 'ego8': None},\n",
       " {'ego1': None, 'ego4': None, 'ego5': None, 'ego8': None},\n",
       " {'ego1': None, 'ego4': None, 'ego5': None, 'ego8': None},\n",
       " {'ego1': None, 'ego4': None, 'ego5': None, 'ego8': None},\n",
       " {'ego1': None, 'ego4': None, 'ego5': None, 'ego8': None},\n",
       " {'ego1': None, 'ego4': None, 'ego5': None, 'ego8': None},\n",
       " {'ego1': None, 'ego4': None, 'ego5': None, 'ego8': None},\n",
       " {'ego1': None, 'ego4': None, 'ego5': None, 'ego8': None},\n",
       " {'ego1': None, 'ego4': None, 'ego5': None, 'ego8': None},\n",
       " {'ego1': None, 'ego4': None, 'ego5': None, 'ego8': None},\n",
       " {'ego1': None, 'ego4': None, 'ego5': None, 'ego8': None},\n",
       " {'ego1': None, 'ego4': None, 'ego5': None, 'ego8': None},\n",
       " {'ego1': None, 'ego4': None, 'ego5': None, 'ego8': None},\n",
       " {'ego1': None, 'ego4': None, 'ego5': None, 'ego8': None},\n",
       " {'ego1': None, 'ego4': None, 'ego5': None, 'ego8': None},\n",
       " {'ego1': None, 'ego4': None, 'ego5': None, 'ego8': None},\n",
       " {'ego1': None, 'ego4': None, 'ego5': None, 'ego8': None},\n",
       " {'ego1': None, 'ego4': None, 'ego5': None, 'ego8': None},\n",
       " {'ego1': None, 'ego4': None, 'ego5': None, 'ego8': None},\n",
       " {'ego1': None, 'ego4': None, 'ego5': None, 'ego8': None},\n",
       " {'ego1': None, 'ego4': None, 'ego5': None, 'ego8': None},\n",
       " {'ego1': None, 'ego4': None, 'ego5': None, 'ego8': None},\n",
       " {'ego1': None, 'ego4': None, 'ego5': None, 'ego8': None},\n",
       " {'ego1': None, 'ego4': None, 'ego5': None, 'ego8': None},\n",
       " {'ego1': None, 'ego4': None, 'ego5': None, 'ego8': None},\n",
       " {'ego1': None, 'ego4': None, 'ego5': None, 'ego8': None},\n",
       " {'ego1': None, 'ego4': None, 'ego5': None, 'ego8': None},\n",
       " {'ego1': None, 'ego4': None, 'ego5': None, 'ego8': None},\n",
       " {'ego1': None, 'ego4': None, 'ego5': None, 'ego8': None},\n",
       " {'ego1': None, 'ego4': None, 'ego5': None, 'ego8': None},\n",
       " {'ego1': None, 'ego4': None, 'ego5': None, 'ego8': None},\n",
       " {'ego1': None, 'ego4': None, 'ego5': None, 'ego8': None},\n",
       " {'ego1': None, 'ego4': None, 'ego5': None, 'ego8': None},\n",
       " {'ego1': None, 'ego4': None, 'ego5': None, 'ego8': None},\n",
       " {'ego1': None, 'ego4': None, 'ego5': None, 'ego8': None},\n",
       " {'ego1': None, 'ego4': None, 'ego5': None, 'ego8': None},\n",
       " {'ego1': None, 'ego4': None, 'ego5': None, 'ego8': None},\n",
       " {'ego1': None, 'ego4': None, 'ego5': None, 'ego8': None},\n",
       " {'ego1': None, 'ego4': None, 'ego5': None, 'ego8': None},\n",
       " {'ego1': None, 'ego4': None, 'ego5': None, 'ego8': None},\n",
       " {'ego1': None, 'ego4': None, 'ego5': None, 'ego8': None},\n",
       " {'ego1': None, 'ego4': None, 'ego5': None, 'ego8': None},\n",
       " {'ego1': None, 'ego4': None, 'ego5': None, 'ego8': None},\n",
       " {'ego1': None, 'ego4': None, 'ego5': None, 'ego8': None},\n",
       " {'ego1': None, 'ego4': None, 'ego5': None, 'ego8': None},\n",
       " {'ego1': None, 'ego4': None, 'ego5': None, 'ego8': None},\n",
       " {'ego1': None, 'ego4': None, 'ego5': None, 'ego8': None},\n",
       " {'ego1': None, 'ego4': None, 'ego5': None, 'ego8': None},\n",
       " {'ego1': None, 'ego4': None, 'ego5': None, 'ego8': None},\n",
       " {'ego1': None, 'ego4': None, 'ego5': None, 'ego8': None},\n",
       " {'ego1': None, 'ego4': None, 'ego5': None, 'ego8': None},\n",
       " {'ego1': None, 'ego4': None, 'ego5': None, 'ego8': None},\n",
       " {'ego1': None, 'ego4': None, 'ego5': None, 'ego8': None},\n",
       " {'ego1': None, 'ego4': None, 'ego5': None, 'ego8': None},\n",
       " {'ego1': None, 'ego4': None, 'ego5': None, 'ego8': None},\n",
       " {'ego1': None, 'ego4': None, 'ego5': None, 'ego8': None},\n",
       " {'ego1': None, 'ego4': None, 'ego5': None, 'ego8': None},\n",
       " {'ego1': None, 'ego4': None, 'ego5': None, 'ego8': None},\n",
       " {'ego1': None, 'ego4': None, 'ego5': None, 'ego8': None},\n",
       " {'ego1': None, 'ego4': None, 'ego5': None, 'ego8': None},\n",
       " {'ego1': None, 'ego4': None, 'ego5': None, 'ego8': None},\n",
       " {'ego1': None, 'ego4': None, 'ego5': None, 'ego8': None},\n",
       " {'ego1': None, 'ego4': None, 'ego5': None, 'ego8': None},\n",
       " {'ego1': None, 'ego4': None, 'ego5': None, 'ego8': None},\n",
       " {'ego1': None, 'ego4': None, 'ego5': None, 'ego8': None},\n",
       " {'ego1': None, 'ego4': None, 'ego5': None, 'ego8': None},\n",
       " {'ego1': None, 'ego4': None, 'ego5': None, 'ego8': None},\n",
       " {'ego1': None, 'ego4': None, 'ego5': None, 'ego8': None},\n",
       " {'ego1': None, 'ego4': None, 'ego5': None, 'ego8': None},\n",
       " {'ego1': None, 'ego4': None, 'ego5': None, 'ego8': None},\n",
       " {'ego1': None, 'ego4': None, 'ego5': None, 'ego8': None},\n",
       " {'ego1': None, 'ego4': None, 'ego5': None, 'ego8': None},\n",
       " {'ego1': None, 'ego4': None, 'ego5': None, 'ego8': None},\n",
       " {'ego1': None, 'ego4': None, 'ego5': None, 'ego8': None},\n",
       " {'ego1': None, 'ego4': None, 'ego5': None, 'ego8': None},\n",
       " {'ego1': None, 'ego4': None, 'ego5': None, 'ego8': None},\n",
       " {'ego1': None, 'ego4': None, 'ego5': None, 'ego8': None},\n",
       " {'ego1': None, 'ego4': None, 'ego5': None, 'ego8': None},\n",
       " {'ego1': None, 'ego4': None, 'ego5': None, 'ego8': None},\n",
       " {'ego1': None, 'ego4': None, 'ego5': None, 'ego8': None},\n",
       " {'ego1': None, 'ego4': None, 'ego5': None, 'ego8': None},\n",
       " {'ego1': None, 'ego4': None, 'ego5': None, 'ego8': None},\n",
       " {'ego1': None, 'ego4': None, 'ego5': None, 'ego8': None},\n",
       " {'ego1': None, 'ego4': None, 'ego5': None, 'ego8': None},\n",
       " {'ego1': None, 'ego4': None, 'ego5': None, 'ego8': None},\n",
       " {'ego1': None, 'ego4': None, 'ego5': None, 'ego8': None},\n",
       " {'ego1': None, 'ego4': None, 'ego5': None, 'ego8': None},\n",
       " {'ego1': None, 'ego4': None, 'ego5': None, 'ego8': None},\n",
       " {'ego1': None, 'ego4': None, 'ego5': None, 'ego8': None},\n",
       " {'ego1': None, 'ego4': None, 'ego5': None, 'ego8': None},\n",
       " {'ego1': None, 'ego4': None, 'ego5': None, 'ego8': None},\n",
       " {'ego1': None, 'ego4': None, 'ego5': None, 'ego8': None},\n",
       " {'ego1': None, 'ego4': None, 'ego5': None, 'ego8': None},\n",
       " {'ego1': None, 'ego4': None, 'ego5': None, 'ego8': None},\n",
       " {'ego1': None, 'ego4': None, 'ego5': None, 'ego8': None},\n",
       " {'ego1': None, 'ego4': None, 'ego5': None, 'ego8': None},\n",
       " {'ego1': None, 'ego4': None, 'ego5': None, 'ego8': None},\n",
       " {'ego1': None, 'ego4': None, 'ego5': None, 'ego8': None},\n",
       " {'ego1': None, 'ego4': None, 'ego5': None, 'ego8': None},\n",
       " {'ego1': None, 'ego4': None, 'ego5': None, 'ego8': None},\n",
       " {'ego1': None, 'ego4': None, 'ego5': None, 'ego8': None},\n",
       " {'ego1': None, 'ego4': None, 'ego5': None, 'ego8': None},\n",
       " {'ego1': None, 'ego4': None, 'ego5': None, 'ego8': None},\n",
       " {'ego1': None, 'ego4': None, 'ego5': None, 'ego8': None},\n",
       " {'ego1': None, 'ego4': None, 'ego5': None, 'ego8': None},\n",
       " {'ego1': None, 'ego4': None, 'ego5': None, 'ego8': None},\n",
       " {'ego1': None, 'ego4': None, 'ego5': None, 'ego8': None},\n",
       " {'ego1': None, 'ego4': None, 'ego5': None, 'ego8': None},\n",
       " {'ego1': None, 'ego4': None, 'ego5': None, 'ego8': None},\n",
       " {'ego1': None, 'ego4': None, 'ego5': None, 'ego8': None},\n",
       " {'ego1': None, 'ego4': None, 'ego8': None},\n",
       " {'ego1': None, 'ego4': None, 'ego8': None},\n",
       " {'ego1': None, 'ego4': None, 'ego8': None},\n",
       " {'ego1': None, 'ego4': None, 'ego8': None},\n",
       " {'ego1': None, 'ego4': None, 'ego8': None},\n",
       " {'ego1': None, 'ego4': None, 'ego8': None},\n",
       " {'ego1': None, 'ego4': None, 'ego8': None},\n",
       " {'ego1': None, 'ego4': None, 'ego8': None},\n",
       " {'ego1': None, 'ego4': None, 'ego8': None},\n",
       " {'ego1': None, 'ego4': None, 'ego8': None},\n",
       " {'ego1': None, 'ego4': None, 'ego8': None},\n",
       " {'ego1': None, 'ego4': None, 'ego8': None},\n",
       " {'ego1': None, 'ego4': None, 'ego8': None},\n",
       " {'ego1': None, 'ego4': None, 'ego8': None},\n",
       " {'ego1': None, 'ego4': None, 'ego8': None},\n",
       " {'ego1': None, 'ego4': None, 'ego8': None},\n",
       " {'ego1': None, 'ego4': None, 'ego8': None},\n",
       " {'ego1': None, 'ego4': None, 'ego8': None},\n",
       " {'ego1': None, 'ego4': None, 'ego8': None},\n",
       " {'ego1': None, 'ego4': None, 'ego8': None},\n",
       " {'ego1': None, 'ego4': None, 'ego8': None},\n",
       " {'ego1': None, 'ego4': None, 'ego8': None},\n",
       " {'ego1': None, 'ego4': None, 'ego8': None},\n",
       " {'ego1': None, 'ego4': None, 'ego8': None},\n",
       " {'ego1': None, 'ego4': None, 'ego8': None},\n",
       " {'ego1': None, 'ego4': None, 'ego8': None},\n",
       " {'ego1': None, 'ego4': None, 'ego8': None},\n",
       " {'ego1': None, 'ego4': None, 'ego8': None},\n",
       " {'ego1': None, 'ego4': None},\n",
       " {'ego1': None, 'ego4': None},\n",
       " {'ego1': None, 'ego4': None},\n",
       " {'ego1': None, 'ego4': None},\n",
       " {'ego1': None, 'ego4': None},\n",
       " {'ego1': None, 'ego4': None},\n",
       " {'ego1': None, 'ego4': None},\n",
       " {'ego1': None, 'ego4': None},\n",
       " {'ego1': None, 'ego4': None},\n",
       " {'ego1': None, 'ego4': None},\n",
       " {'ego1': None, 'ego4': None},\n",
       " {'ego1': None, 'ego4': None},\n",
       " {'ego1': None, 'ego4': None},\n",
       " {'ego1': None, 'ego4': None},\n",
       " {'ego1': None, 'ego4': None},\n",
       " {'ego1': None, 'ego4': None}]"
      ]
     },
     "metadata": {},
     "execution_count": 14
    }
   ],
   "source": [
    "ego"
   ]
  },
  {
   "cell_type": "code",
   "execution_count": 9,
   "metadata": {},
   "outputs": [],
   "source": [
    "import datetime\n",
    "current_time = datetime.datetime.now()\n",
    "exp_name = f'{current_time:%Y_%m_%d_%H_%M_%S}'"
   ]
  },
  {
   "cell_type": "code",
   "execution_count": 37,
   "metadata": {},
   "outputs": [],
   "source": [
    "import matplotlib.pyplot as plt \n",
    "from matplotlib.patches import Arc, Circle\n"
   ]
  },
  {
   "cell_type": "code",
   "execution_count": 40,
   "metadata": {},
   "outputs": [
    {
     "output_type": "display_data",
     "data": {
      "text/plain": "<Figure size 432x288 with 1 Axes>",
      "image/svg+xml": "<?xml version=\"1.0\" encoding=\"utf-8\" standalone=\"no\"?>\r\n<!DOCTYPE svg PUBLIC \"-//W3C//DTD SVG 1.1//EN\"\r\n  \"http://www.w3.org/Graphics/SVG/1.1/DTD/svg11.dtd\">\r\n<!-- Created with matplotlib (https://matplotlib.org/) -->\r\n<svg height=\"248.518125pt\" version=\"1.1\" viewBox=\"0 0 377.304687 248.518125\" width=\"377.304687pt\" xmlns=\"http://www.w3.org/2000/svg\" xmlns:xlink=\"http://www.w3.org/1999/xlink\">\r\n <defs>\r\n  <style type=\"text/css\">\r\n*{stroke-linecap:butt;stroke-linejoin:round;}\r\n  </style>\r\n </defs>\r\n <g id=\"figure_1\">\r\n  <g id=\"patch_1\">\r\n   <path d=\"M 0 248.518125 \r\nL 377.304687 248.518125 \r\nL 377.304687 0 \r\nL 0 0 \r\nz\r\n\" style=\"fill:none;\"/>\r\n  </g>\r\n  <g id=\"axes_1\">\r\n   <g id=\"patch_2\">\r\n    <path d=\"M 35.304688 224.64 \r\nL 370.104688 224.64 \r\nL 370.104688 7.2 \r\nL 35.304688 7.2 \r\nz\r\n\" style=\"fill:#ffffff;\"/>\r\n   </g>\r\n   <g id=\"patch_3\">\r\n    <path clip-path=\"url(#p66bc4eb422)\" d=\"M 268.595597 132.392727 \r\nC 268.595597 121.576834 266.465101 110.866111 262.326038 100.873528 \r\nC 258.186975 90.880945 252.119838 81.800833 244.471846 74.152841 \r\nC 236.823854 66.50485 227.743742 60.437713 217.751159 56.298649 \r\nC 207.758577 52.159586 197.047854 50.029091 186.23196 50.029091 \r\nC 175.416067 50.029091 164.705344 52.159586 154.712761 56.298649 \r\nC 144.720178 60.437713 135.640066 66.50485 127.992074 74.152841 \r\nC 120.344083 81.800833 114.276946 90.880945 110.137882 100.873528 \r\nC 105.998819 110.866111 103.868324 121.576834 103.868324 132.392727 \r\nC 103.868324 143.208621 105.998819 153.919344 110.137882 163.911926 \r\nC 114.276946 173.904509 120.344083 182.984621 127.992074 190.632613 \r\nC 135.640066 198.280605 144.720178 204.347742 154.712761 208.486805 \r\nC 164.705344 212.625868 175.416067 214.756364 186.23196 214.756364 \r\nC 197.047854 214.756364 207.758577 212.625868 217.751159 208.486805 \r\nC 227.743742 204.347742 236.823854 198.280605 244.471846 190.632613 \r\nC 252.119838 182.984621 258.186975 173.904509 262.326038 163.911926 \r\nC 266.465101 153.919344 268.595597 143.208621 268.595597 132.392727 \r\n\" style=\"fill:none;stroke:#000000;stroke-linejoin:miter;\"/>\r\n   </g>\r\n   <g id=\"patch_4\">\r\n    <path clip-path=\"url(#p66bc4eb422)\" d=\"M 189.526506 211.461818 \r\nC 211.369597 211.461818 232.320993 202.783466 247.766391 187.338068 \r\nC 263.21179 171.892669 271.890142 150.941274 271.890142 129.098182 \r\nC 271.890142 107.25509 263.21179 86.303694 247.766391 70.858296 \r\nC 232.320993 55.412898 211.369597 46.734545 189.526506 46.734545 \r\nC 167.683414 46.734545 146.732018 55.412898 131.28662 70.858296 \r\nC 115.841222 86.303694 107.162869 107.25509 107.162869 129.098182 \r\nC 107.162869 150.941274 115.841222 171.892669 131.28662 187.338068 \r\nC 146.732018 202.783466 167.683414 211.461818 189.526506 211.461818 \r\nz\r\n\" style=\"fill:#1f77b4;opacity:0.1;\"/>\r\n   </g>\r\n   <g id=\"matplotlib.axis_1\">\r\n    <g id=\"xtick_1\">\r\n     <g id=\"line2d_1\">\r\n      <defs>\r\n       <path d=\"M 0 0 \r\nL 0 3.5 \r\n\" id=\"ma5e17e0b4b\" style=\"stroke:#000000;stroke-width:0.8;\"/>\r\n      </defs>\r\n      <g>\r\n       <use style=\"stroke:#000000;stroke-width:0.8;\" x=\"54.450142\" xlink:href=\"#ma5e17e0b4b\" y=\"224.64\"/>\r\n      </g>\r\n     </g>\r\n     <g id=\"text_1\">\r\n      <!-- −40 -->\r\n      <defs>\r\n       <path d=\"M 10.59375 35.5 \r\nL 73.1875 35.5 \r\nL 73.1875 27.203125 \r\nL 10.59375 27.203125 \r\nz\r\n\" id=\"DejaVuSans-8722\"/>\r\n       <path d=\"M 37.796875 64.3125 \r\nL 12.890625 25.390625 \r\nL 37.796875 25.390625 \r\nz\r\nM 35.203125 72.90625 \r\nL 47.609375 72.90625 \r\nL 47.609375 25.390625 \r\nL 58.015625 25.390625 \r\nL 58.015625 17.1875 \r\nL 47.609375 17.1875 \r\nL 47.609375 0 \r\nL 37.796875 0 \r\nL 37.796875 17.1875 \r\nL 4.890625 17.1875 \r\nL 4.890625 26.703125 \r\nz\r\n\" id=\"DejaVuSans-52\"/>\r\n       <path d=\"M 31.78125 66.40625 \r\nQ 24.171875 66.40625 20.328125 58.90625 \r\nQ 16.5 51.421875 16.5 36.375 \r\nQ 16.5 21.390625 20.328125 13.890625 \r\nQ 24.171875 6.390625 31.78125 6.390625 \r\nQ 39.453125 6.390625 43.28125 13.890625 \r\nQ 47.125 21.390625 47.125 36.375 \r\nQ 47.125 51.421875 43.28125 58.90625 \r\nQ 39.453125 66.40625 31.78125 66.40625 \r\nz\r\nM 31.78125 74.21875 \r\nQ 44.046875 74.21875 50.515625 64.515625 \r\nQ 56.984375 54.828125 56.984375 36.375 \r\nQ 56.984375 17.96875 50.515625 8.265625 \r\nQ 44.046875 -1.421875 31.78125 -1.421875 \r\nQ 19.53125 -1.421875 13.0625 8.265625 \r\nQ 6.59375 17.96875 6.59375 36.375 \r\nQ 6.59375 54.828125 13.0625 64.515625 \r\nQ 19.53125 74.21875 31.78125 74.21875 \r\nz\r\n\" id=\"DejaVuSans-48\"/>\r\n      </defs>\r\n      <g transform=\"translate(43.897798 239.238437)scale(0.1 -0.1)\">\r\n       <use xlink:href=\"#DejaVuSans-8722\"/>\r\n       <use x=\"83.789062\" xlink:href=\"#DejaVuSans-52\"/>\r\n       <use x=\"147.412109\" xlink:href=\"#DejaVuSans-48\"/>\r\n      </g>\r\n     </g>\r\n    </g>\r\n    <g id=\"xtick_2\">\r\n     <g id=\"line2d_2\">\r\n      <g>\r\n       <use style=\"stroke:#000000;stroke-width:0.8;\" x=\"120.341051\" xlink:href=\"#ma5e17e0b4b\" y=\"224.64\"/>\r\n      </g>\r\n     </g>\r\n     <g id=\"text_2\">\r\n      <!-- −20 -->\r\n      <defs>\r\n       <path d=\"M 19.1875 8.296875 \r\nL 53.609375 8.296875 \r\nL 53.609375 0 \r\nL 7.328125 0 \r\nL 7.328125 8.296875 \r\nQ 12.9375 14.109375 22.625 23.890625 \r\nQ 32.328125 33.6875 34.8125 36.53125 \r\nQ 39.546875 41.84375 41.421875 45.53125 \r\nQ 43.3125 49.21875 43.3125 52.78125 \r\nQ 43.3125 58.59375 39.234375 62.25 \r\nQ 35.15625 65.921875 28.609375 65.921875 \r\nQ 23.96875 65.921875 18.8125 64.3125 \r\nQ 13.671875 62.703125 7.8125 59.421875 \r\nL 7.8125 69.390625 \r\nQ 13.765625 71.78125 18.9375 73 \r\nQ 24.125 74.21875 28.421875 74.21875 \r\nQ 39.75 74.21875 46.484375 68.546875 \r\nQ 53.21875 62.890625 53.21875 53.421875 \r\nQ 53.21875 48.921875 51.53125 44.890625 \r\nQ 49.859375 40.875 45.40625 35.40625 \r\nQ 44.1875 33.984375 37.640625 27.21875 \r\nQ 31.109375 20.453125 19.1875 8.296875 \r\nz\r\n\" id=\"DejaVuSans-50\"/>\r\n      </defs>\r\n      <g transform=\"translate(109.788707 239.238437)scale(0.1 -0.1)\">\r\n       <use xlink:href=\"#DejaVuSans-8722\"/>\r\n       <use x=\"83.789062\" xlink:href=\"#DejaVuSans-50\"/>\r\n       <use x=\"147.412109\" xlink:href=\"#DejaVuSans-48\"/>\r\n      </g>\r\n     </g>\r\n    </g>\r\n    <g id=\"xtick_3\">\r\n     <g id=\"line2d_3\">\r\n      <g>\r\n       <use style=\"stroke:#000000;stroke-width:0.8;\" x=\"186.23196\" xlink:href=\"#ma5e17e0b4b\" y=\"224.64\"/>\r\n      </g>\r\n     </g>\r\n     <g id=\"text_3\">\r\n      <!-- 0 -->\r\n      <g transform=\"translate(183.05071 239.238437)scale(0.1 -0.1)\">\r\n       <use xlink:href=\"#DejaVuSans-48\"/>\r\n      </g>\r\n     </g>\r\n    </g>\r\n    <g id=\"xtick_4\">\r\n     <g id=\"line2d_4\">\r\n      <g>\r\n       <use style=\"stroke:#000000;stroke-width:0.8;\" x=\"252.122869\" xlink:href=\"#ma5e17e0b4b\" y=\"224.64\"/>\r\n      </g>\r\n     </g>\r\n     <g id=\"text_4\">\r\n      <!-- 20 -->\r\n      <g transform=\"translate(245.760369 239.238437)scale(0.1 -0.1)\">\r\n       <use xlink:href=\"#DejaVuSans-50\"/>\r\n       <use x=\"63.623047\" xlink:href=\"#DejaVuSans-48\"/>\r\n      </g>\r\n     </g>\r\n    </g>\r\n    <g id=\"xtick_5\">\r\n     <g id=\"line2d_5\">\r\n      <g>\r\n       <use style=\"stroke:#000000;stroke-width:0.8;\" x=\"318.013778\" xlink:href=\"#ma5e17e0b4b\" y=\"224.64\"/>\r\n      </g>\r\n     </g>\r\n     <g id=\"text_5\">\r\n      <!-- 40 -->\r\n      <g transform=\"translate(311.651278 239.238437)scale(0.1 -0.1)\">\r\n       <use xlink:href=\"#DejaVuSans-52\"/>\r\n       <use x=\"63.623047\" xlink:href=\"#DejaVuSans-48\"/>\r\n      </g>\r\n     </g>\r\n    </g>\r\n   </g>\r\n   <g id=\"matplotlib.axis_2\">\r\n    <g id=\"ytick_1\">\r\n     <g id=\"line2d_6\">\r\n      <defs>\r\n       <path d=\"M 0 0 \r\nL -3.5 0 \r\n\" id=\"m678ecc8925\" style=\"stroke:#000000;stroke-width:0.8;\"/>\r\n      </defs>\r\n      <g>\r\n       <use style=\"stroke:#000000;stroke-width:0.8;\" x=\"35.304688\" xlink:href=\"#m678ecc8925\" y=\"198.283636\"/>\r\n      </g>\r\n     </g>\r\n     <g id=\"text_6\">\r\n      <!-- −20 -->\r\n      <g transform=\"translate(7.2 202.082855)scale(0.1 -0.1)\">\r\n       <use xlink:href=\"#DejaVuSans-8722\"/>\r\n       <use x=\"83.789062\" xlink:href=\"#DejaVuSans-50\"/>\r\n       <use x=\"147.412109\" xlink:href=\"#DejaVuSans-48\"/>\r\n      </g>\r\n     </g>\r\n    </g>\r\n    <g id=\"ytick_2\">\r\n     <g id=\"line2d_7\">\r\n      <g>\r\n       <use style=\"stroke:#000000;stroke-width:0.8;\" x=\"35.304688\" xlink:href=\"#m678ecc8925\" y=\"165.338182\"/>\r\n      </g>\r\n     </g>\r\n     <g id=\"text_7\">\r\n      <!-- −10 -->\r\n      <defs>\r\n       <path d=\"M 12.40625 8.296875 \r\nL 28.515625 8.296875 \r\nL 28.515625 63.921875 \r\nL 10.984375 60.40625 \r\nL 10.984375 69.390625 \r\nL 28.421875 72.90625 \r\nL 38.28125 72.90625 \r\nL 38.28125 8.296875 \r\nL 54.390625 8.296875 \r\nL 54.390625 0 \r\nL 12.40625 0 \r\nz\r\n\" id=\"DejaVuSans-49\"/>\r\n      </defs>\r\n      <g transform=\"translate(7.2 169.137401)scale(0.1 -0.1)\">\r\n       <use xlink:href=\"#DejaVuSans-8722\"/>\r\n       <use x=\"83.789062\" xlink:href=\"#DejaVuSans-49\"/>\r\n       <use x=\"147.412109\" xlink:href=\"#DejaVuSans-48\"/>\r\n      </g>\r\n     </g>\r\n    </g>\r\n    <g id=\"ytick_3\">\r\n     <g id=\"line2d_8\">\r\n      <g>\r\n       <use style=\"stroke:#000000;stroke-width:0.8;\" x=\"35.304688\" xlink:href=\"#m678ecc8925\" y=\"132.392727\"/>\r\n      </g>\r\n     </g>\r\n     <g id=\"text_8\">\r\n      <!-- 0 -->\r\n      <g transform=\"translate(21.942188 136.191946)scale(0.1 -0.1)\">\r\n       <use xlink:href=\"#DejaVuSans-48\"/>\r\n      </g>\r\n     </g>\r\n    </g>\r\n    <g id=\"ytick_4\">\r\n     <g id=\"line2d_9\">\r\n      <g>\r\n       <use style=\"stroke:#000000;stroke-width:0.8;\" x=\"35.304688\" xlink:href=\"#m678ecc8925\" y=\"99.447273\"/>\r\n      </g>\r\n     </g>\r\n     <g id=\"text_9\">\r\n      <!-- 10 -->\r\n      <g transform=\"translate(15.579688 103.246491)scale(0.1 -0.1)\">\r\n       <use xlink:href=\"#DejaVuSans-49\"/>\r\n       <use x=\"63.623047\" xlink:href=\"#DejaVuSans-48\"/>\r\n      </g>\r\n     </g>\r\n    </g>\r\n    <g id=\"ytick_5\">\r\n     <g id=\"line2d_10\">\r\n      <g>\r\n       <use style=\"stroke:#000000;stroke-width:0.8;\" x=\"35.304688\" xlink:href=\"#m678ecc8925\" y=\"66.501818\"/>\r\n      </g>\r\n     </g>\r\n     <g id=\"text_10\">\r\n      <!-- 20 -->\r\n      <g transform=\"translate(15.579688 70.301037)scale(0.1 -0.1)\">\r\n       <use xlink:href=\"#DejaVuSans-50\"/>\r\n       <use x=\"63.623047\" xlink:href=\"#DejaVuSans-48\"/>\r\n      </g>\r\n     </g>\r\n    </g>\r\n    <g id=\"ytick_6\">\r\n     <g id=\"line2d_11\">\r\n      <g>\r\n       <use style=\"stroke:#000000;stroke-width:0.8;\" x=\"35.304688\" xlink:href=\"#m678ecc8925\" y=\"33.556364\"/>\r\n      </g>\r\n     </g>\r\n     <g id=\"text_11\">\r\n      <!-- 30 -->\r\n      <defs>\r\n       <path d=\"M 40.578125 39.3125 \r\nQ 47.65625 37.796875 51.625 33 \r\nQ 55.609375 28.21875 55.609375 21.1875 \r\nQ 55.609375 10.40625 48.1875 4.484375 \r\nQ 40.765625 -1.421875 27.09375 -1.421875 \r\nQ 22.515625 -1.421875 17.65625 -0.515625 \r\nQ 12.796875 0.390625 7.625 2.203125 \r\nL 7.625 11.71875 \r\nQ 11.71875 9.328125 16.59375 8.109375 \r\nQ 21.484375 6.890625 26.8125 6.890625 \r\nQ 36.078125 6.890625 40.9375 10.546875 \r\nQ 45.796875 14.203125 45.796875 21.1875 \r\nQ 45.796875 27.640625 41.28125 31.265625 \r\nQ 36.765625 34.90625 28.71875 34.90625 \r\nL 20.21875 34.90625 \r\nL 20.21875 43.015625 \r\nL 29.109375 43.015625 \r\nQ 36.375 43.015625 40.234375 45.921875 \r\nQ 44.09375 48.828125 44.09375 54.296875 \r\nQ 44.09375 59.90625 40.109375 62.90625 \r\nQ 36.140625 65.921875 28.71875 65.921875 \r\nQ 24.65625 65.921875 20.015625 65.03125 \r\nQ 15.375 64.15625 9.8125 62.3125 \r\nL 9.8125 71.09375 \r\nQ 15.4375 72.65625 20.34375 73.4375 \r\nQ 25.25 74.21875 29.59375 74.21875 \r\nQ 40.828125 74.21875 47.359375 69.109375 \r\nQ 53.90625 64.015625 53.90625 55.328125 \r\nQ 53.90625 49.265625 50.4375 45.09375 \r\nQ 46.96875 40.921875 40.578125 39.3125 \r\nz\r\n\" id=\"DejaVuSans-51\"/>\r\n      </defs>\r\n      <g transform=\"translate(15.579688 37.355582)scale(0.1 -0.1)\">\r\n       <use xlink:href=\"#DejaVuSans-51\"/>\r\n       <use x=\"63.623047\" xlink:href=\"#DejaVuSans-48\"/>\r\n      </g>\r\n     </g>\r\n    </g>\r\n   </g>\r\n   <g id=\"patch_5\">\r\n    <path d=\"M 35.304688 224.64 \r\nL 35.304688 7.2 \r\n\" style=\"fill:none;stroke:#000000;stroke-linecap:square;stroke-linejoin:miter;stroke-width:0.8;\"/>\r\n   </g>\r\n   <g id=\"patch_6\">\r\n    <path d=\"M 370.104688 224.64 \r\nL 370.104688 7.2 \r\n\" style=\"fill:none;stroke:#000000;stroke-linecap:square;stroke-linejoin:miter;stroke-width:0.8;\"/>\r\n   </g>\r\n   <g id=\"patch_7\">\r\n    <path d=\"M 35.304688 224.64 \r\nL 370.104688 224.64 \r\n\" style=\"fill:none;stroke:#000000;stroke-linecap:square;stroke-linejoin:miter;stroke-width:0.8;\"/>\r\n   </g>\r\n   <g id=\"patch_8\">\r\n    <path d=\"M 35.304688 7.2 \r\nL 370.104688 7.2 \r\n\" style=\"fill:none;stroke:#000000;stroke-linecap:square;stroke-linejoin:miter;stroke-width:0.8;\"/>\r\n   </g>\r\n  </g>\r\n </g>\r\n <defs>\r\n  <clipPath id=\"p66bc4eb422\">\r\n   <rect height=\"217.44\" width=\"334.8\" x=\"35.304688\" y=\"7.2\"/>\r\n  </clipPath>\r\n </defs>\r\n</svg>\r\n",
      "image/png": "[encoded data removed]"
     },
     "metadata": {
      "needs_background": "light"
     }
    }
   ],
   "source": [
    "fig, ax = plt.subplots()\n",
    "D = 50\n",
    "ax.add_patch(Arc((0,0),D,D,0,0,360))\n",
    "c1 = ax.add_patch(Circle((10,10), radius= 25, alpha = 0.1))\n",
    "c1.center = (1, 1)\n",
    "ax.set_xlim([-50,50])\n",
    "ax.set_ylim([-50,50])\n",
    "ax.axis('equal')\n",
    "\n",
    "fig.show()"
   ]
  },
  {
   "cell_type": "code",
   "execution_count": 42,
   "metadata": {},
   "outputs": [
    {
     "output_type": "error",
     "ename": "AttributeError",
     "evalue": "'Figure' object has no attribute 'ax'",
     "traceback": [
      "\u001b[1;31m---------------------------------------------------------------------------\u001b[0m",
      "\u001b[1;31mAttributeError\u001b[0m                            Traceback (most recent call last)",
      "\u001b[1;32m<ipython-input-42-354ac86b5e2f>\u001b[0m in \u001b[0;36m<module>\u001b[1;34m\u001b[0m\n\u001b[0;32m      1\u001b[0m \u001b[0mfig\u001b[0m \u001b[1;33m=\u001b[0m \u001b[0mplt\u001b[0m\u001b[1;33m.\u001b[0m\u001b[0mfigure\u001b[0m\u001b[1;33m(\u001b[0m\u001b[0mfigsize\u001b[0m\u001b[1;33m=\u001b[0m\u001b[1;33m(\u001b[0m\u001b[1;36m8\u001b[0m\u001b[1;33m,\u001b[0m\u001b[1;36m8\u001b[0m\u001b[1;33m)\u001b[0m\u001b[1;33m,\u001b[0m \u001b[0mdpi\u001b[0m\u001b[1;33m=\u001b[0m\u001b[1;36m100\u001b[0m\u001b[1;33m)\u001b[0m\u001b[1;33m\u001b[0m\u001b[1;33m\u001b[0m\u001b[0m\n\u001b[1;32m----> 2\u001b[1;33m \u001b[0mfig\u001b[0m\u001b[1;33m.\u001b[0m\u001b[0max\u001b[0m\u001b[1;33m\u001b[0m\u001b[1;33m\u001b[0m\u001b[0m\n\u001b[0m",
      "\u001b[1;31mAttributeError\u001b[0m: 'Figure' object has no attribute 'ax'"
     ]
    }
   ],
   "source": [
    "fig = plt.figure(figsize=(8,8), dpi=100)\n",
    "fig"
   ]
  },
  {
   "cell_type": "code",
   "execution_count": 26,
   "metadata": {},
   "outputs": [
    {
     "output_type": "display_data",
     "data": {
      "text/plain": "<Figure size 800x800 with 1 Axes>",
      "image/svg+xml": "<?xml version=\"1.0\" encoding=\"utf-8\" standalone=\"no\"?>\r\n<!DOCTYPE svg PUBLIC \"-//W3C//DTD SVG 1.1//EN\"\r\n  \"http://www.w3.org/Graphics/SVG/1.1/DTD/svg11.dtd\">\r\n<!-- Created with matplotlib (https://matplotlib.org/) -->\r\n<svg height=\"547.918125pt\" version=\"1.1\" viewBox=\"0 0 532.8 547.918125\" width=\"532.8pt\" xmlns=\"http://www.w3.org/2000/svg\" xmlns:xlink=\"http://www.w3.org/1999/xlink\">\r\n <defs>\r\n  <style type=\"text/css\">\r\n*{stroke-linecap:butt;stroke-linejoin:round;}\r\n  </style>\r\n </defs>\r\n <g id=\"figure_1\">\r\n  <g id=\"patch_1\">\r\n   <path d=\"M 0 547.918125 \r\nL 532.8 547.918125 \r\nL 532.8 0 \r\nL 0 0 \r\nz\r\n\" style=\"fill:none;\"/>\r\n  </g>\r\n  <g id=\"axes_1\">\r\n   <g id=\"patch_2\">\r\n    <path clip-path=\"url(#p33000e58ac)\" d=\"M 273.197203 390.257056 \r\nL 273.202641 390.27337 \r\nL 273.199015 390.27337 \r\nL 273.199015 408.399244 \r\nL 273.19539 408.399244 \r\nL 273.19539 390.27337 \r\nL 273.191765 390.27337 \r\nz\r\n\" style=\"fill:#808080;stroke:#808080;stroke-linejoin:miter;\"/>\r\n   </g>\r\n   <g id=\"patch_3\">\r\n    <path clip-path=\"url(#p33000e58ac)\" d=\"M 265.946853 390.27337 \r\nL 271.384615 388.460782 \r\nL 271.384615 390.271557 \r\nL 273.197203 390.271557 \r\nL 273.197203 390.275182 \r\nL 271.384615 390.275182 \r\nL 271.384615 392.085957 \r\nz\r\n\" style=\"fill:#808080;stroke:#808080;stroke-linejoin:miter;\"/>\r\n   </g>\r\n   <g id=\"patch_4\">\r\n    <path clip-path=\"url(#p33000e58ac)\" d=\"M 286.791608 384.835608 \r\nL 288.604196 390.27337 \r\nL 286.793421 390.27337 \r\nL 286.793421 408.399244 \r\nL 286.789796 408.399244 \r\nL 286.789796 390.27337 \r\nL 284.979021 390.27337 \r\nz\r\n\" style=\"fill:#808080;stroke:#808080;stroke-linejoin:miter;\"/>\r\n   </g>\r\n   <g id=\"patch_5\">\r\n    <path clip-path=\"url(#p33000e58ac)\" d=\"M 300.386014 390.257056 \r\nL 300.391452 390.27337 \r\nL 300.387827 390.27337 \r\nL 300.387827 408.399244 \r\nL 300.384201 408.399244 \r\nL 300.384201 390.27337 \r\nL 300.380576 390.27337 \r\nz\r\n\" style=\"fill:#808080;stroke:#808080;stroke-linejoin:miter;\"/>\r\n   </g>\r\n   <g id=\"patch_6\">\r\n    <path clip-path=\"url(#p33000e58ac)\" d=\"M 307.636364 390.27337 \r\nL 302.198601 392.085957 \r\nL 302.198601 390.275182 \r\nL 300.386014 390.275182 \r\nL 300.386014 390.271557 \r\nL 302.198601 390.271557 \r\nL 302.198601 388.460782 \r\nz\r\n\" style=\"fill:#808080;stroke:#808080;stroke-linejoin:miter;\"/>\r\n   </g>\r\n   <g id=\"line2d_1\">\r\n    <path clip-path=\"url(#p33000e58ac)\" d=\"M 30.763636 281.518125 \r\nL 175.770629 281.518125 \r\n\" style=\"fill:none;stroke:#ffa500;stroke-linecap:square;stroke-width:1.5;\"/>\r\n   </g>\r\n   <g id=\"line2d_2\">\r\n    <path clip-path=\"url(#p33000e58ac)\" d=\"M 502.036364 281.518125 \r\nL 357.029371 281.518125 \r\n\" style=\"fill:none;stroke:#ffa500;stroke-linecap:square;stroke-width:1.5;\"/>\r\n   </g>\r\n   <g id=\"line2d_3\">\r\n    <path clip-path=\"url(#p33000e58ac)\" d=\"M 30.763636 267.923719 \r\nL 175.770629 267.923719 \r\n\" style=\"fill:none;stroke:#000000;stroke-dasharray:5.55,2.4;stroke-dashoffset:0;stroke-width:1.5;\"/>\r\n   </g>\r\n   <g id=\"line2d_4\">\r\n    <path clip-path=\"url(#p33000e58ac)\" d=\"M 502.036364 267.923719 \r\nL 357.029371 267.923719 \r\n\" style=\"fill:none;stroke:#000000;stroke-dasharray:5.55,2.4;stroke-dashoffset:0;stroke-width:1.5;\"/>\r\n   </g>\r\n   <g id=\"line2d_5\">\r\n    <path clip-path=\"url(#p33000e58ac)\" d=\"M 30.763636 295.112531 \r\nL 175.770629 295.112531 \r\n\" style=\"fill:none;stroke:#000000;stroke-dasharray:5.55,2.4;stroke-dashoffset:0;stroke-width:1.5;\"/>\r\n   </g>\r\n   <g id=\"line2d_6\">\r\n    <path clip-path=\"url(#p33000e58ac)\" d=\"M 502.036364 295.112531 \r\nL 357.029371 295.112531 \r\n\" style=\"fill:none;stroke:#000000;stroke-dasharray:5.55,2.4;stroke-dashoffset:0;stroke-width:1.5;\"/>\r\n   </g>\r\n   <g id=\"line2d_7\">\r\n    <path clip-path=\"url(#p33000e58ac)\" d=\"M 30.763636 254.329314 \r\nL 175.770629 254.329314 \r\n\" style=\"fill:none;stroke:#000000;stroke-dasharray:5.55,2.4;stroke-dashoffset:0;stroke-width:1.5;\"/>\r\n   </g>\r\n   <g id=\"line2d_8\">\r\n    <path clip-path=\"url(#p33000e58ac)\" d=\"M 502.036364 254.329314 \r\nL 357.029371 254.329314 \r\n\" style=\"fill:none;stroke:#000000;stroke-dasharray:5.55,2.4;stroke-dashoffset:0;stroke-width:1.5;\"/>\r\n   </g>\r\n   <g id=\"line2d_9\">\r\n    <path clip-path=\"url(#p33000e58ac)\" d=\"M 30.763636 308.706936 \r\nL 175.770629 308.706936 \r\n\" style=\"fill:none;stroke:#000000;stroke-dasharray:5.55,2.4;stroke-dashoffset:0;stroke-width:1.5;\"/>\r\n   </g>\r\n   <g id=\"line2d_10\">\r\n    <path clip-path=\"url(#p33000e58ac)\" d=\"M 502.036364 308.706936 \r\nL 357.029371 308.706936 \r\n\" style=\"fill:none;stroke:#000000;stroke-dasharray:5.55,2.4;stroke-dashoffset:0;stroke-width:1.5;\"/>\r\n   </g>\r\n   <g id=\"line2d_11\">\r\n    <path clip-path=\"url(#p33000e58ac)\" d=\"M 30.763636 240.734908 \r\nL 175.770629 240.734908 \r\n\" style=\"fill:none;stroke:#000000;stroke-linecap:square;stroke-width:1.5;\"/>\r\n   </g>\r\n   <g id=\"line2d_12\">\r\n    <path clip-path=\"url(#p33000e58ac)\" d=\"M 502.036364 240.734908 \r\nL 357.029371 240.734908 \r\n\" style=\"fill:none;stroke:#000000;stroke-linecap:square;stroke-width:1.5;\"/>\r\n   </g>\r\n   <g id=\"line2d_13\">\r\n    <path clip-path=\"url(#p33000e58ac)\" d=\"M 30.763636 322.301342 \r\nL 175.770629 322.301342 \r\n\" style=\"fill:none;stroke:#000000;stroke-linecap:square;stroke-width:1.5;\"/>\r\n   </g>\r\n   <g id=\"line2d_14\">\r\n    <path clip-path=\"url(#p33000e58ac)\" d=\"M 502.036364 322.301342 \r\nL 357.029371 322.301342 \r\n\" style=\"fill:none;stroke:#000000;stroke-linecap:square;stroke-width:1.5;\"/>\r\n   </g>\r\n   <g id=\"line2d_15\">\r\n    <path clip-path=\"url(#p33000e58ac)\" d=\"M 266.4 517.154489 \r\nL 266.4 372.147496 \r\n\" style=\"fill:none;stroke:#ffa500;stroke-linecap:square;stroke-width:1.5;\"/>\r\n   </g>\r\n   <g id=\"line2d_16\">\r\n    <path clip-path=\"url(#p33000e58ac)\" d=\"M 266.4 45.881761 \r\nL 266.4 190.888754 \r\n\" style=\"fill:none;stroke:#ffa500;stroke-linecap:square;stroke-width:1.5;\"/>\r\n   </g>\r\n   <g id=\"line2d_17\">\r\n    <path clip-path=\"url(#p33000e58ac)\" d=\"M 279.994406 517.154489 \r\nL 279.994406 372.147496 \r\n\" style=\"fill:none;stroke:#000000;stroke-dasharray:5.55,2.4;stroke-dashoffset:0;stroke-width:1.5;\"/>\r\n   </g>\r\n   <g id=\"line2d_18\">\r\n    <path clip-path=\"url(#p33000e58ac)\" d=\"M 279.994406 45.881761 \r\nL 279.994406 190.888754 \r\n\" style=\"fill:none;stroke:#000000;stroke-dasharray:5.55,2.4;stroke-dashoffset:0;stroke-width:1.5;\"/>\r\n   </g>\r\n   <g id=\"line2d_19\">\r\n    <path clip-path=\"url(#p33000e58ac)\" d=\"M 252.805594 517.154489 \r\nL 252.805594 372.147496 \r\n\" style=\"fill:none;stroke:#000000;stroke-dasharray:5.55,2.4;stroke-dashoffset:0;stroke-width:1.5;\"/>\r\n   </g>\r\n   <g id=\"line2d_20\">\r\n    <path clip-path=\"url(#p33000e58ac)\" d=\"M 252.805594 45.881761 \r\nL 252.805594 190.888754 \r\n\" style=\"fill:none;stroke:#000000;stroke-dasharray:5.55,2.4;stroke-dashoffset:0;stroke-width:1.5;\"/>\r\n   </g>\r\n   <g id=\"line2d_21\">\r\n    <path clip-path=\"url(#p33000e58ac)\" d=\"M 293.588811 517.154489 \r\nL 293.588811 372.147496 \r\n\" style=\"fill:none;stroke:#000000;stroke-dasharray:5.55,2.4;stroke-dashoffset:0;stroke-width:1.5;\"/>\r\n   </g>\r\n   <g id=\"line2d_22\">\r\n    <path clip-path=\"url(#p33000e58ac)\" d=\"M 293.588811 45.881761 \r\nL 293.588811 190.888754 \r\n\" style=\"fill:none;stroke:#000000;stroke-dasharray:5.55,2.4;stroke-dashoffset:0;stroke-width:1.5;\"/>\r\n   </g>\r\n   <g id=\"line2d_23\">\r\n    <path clip-path=\"url(#p33000e58ac)\" d=\"M 239.211189 517.154489 \r\nL 239.211189 372.147496 \r\n\" style=\"fill:none;stroke:#000000;stroke-dasharray:5.55,2.4;stroke-dashoffset:0;stroke-width:1.5;\"/>\r\n   </g>\r\n   <g id=\"line2d_24\">\r\n    <path clip-path=\"url(#p33000e58ac)\" d=\"M 239.211189 45.881761 \r\nL 239.211189 190.888754 \r\n\" style=\"fill:none;stroke:#000000;stroke-dasharray:5.55,2.4;stroke-dashoffset:0;stroke-width:1.5;\"/>\r\n   </g>\r\n   <g id=\"line2d_25\">\r\n    <path clip-path=\"url(#p33000e58ac)\" d=\"M 307.183217 517.154489 \r\nL 307.183217 372.147496 \r\n\" style=\"fill:none;stroke:#000000;stroke-linecap:square;stroke-width:1.5;\"/>\r\n   </g>\r\n   <g id=\"line2d_26\">\r\n    <path clip-path=\"url(#p33000e58ac)\" d=\"M 307.183217 45.881761 \r\nL 307.183217 190.888754 \r\n\" style=\"fill:none;stroke:#000000;stroke-linecap:square;stroke-width:1.5;\"/>\r\n   </g>\r\n   <g id=\"line2d_27\">\r\n    <path clip-path=\"url(#p33000e58ac)\" d=\"M 225.616783 517.154489 \r\nL 225.616783 372.147496 \r\n\" style=\"fill:none;stroke:#000000;stroke-linecap:square;stroke-width:1.5;\"/>\r\n   </g>\r\n   <g id=\"line2d_28\">\r\n    <path clip-path=\"url(#p33000e58ac)\" d=\"M 225.616783 45.881761 \r\nL 225.616783 190.888754 \r\n\" style=\"fill:none;stroke:#000000;stroke-linecap:square;stroke-width:1.5;\"/>\r\n   </g>\r\n   <g id=\"line2d_29\">\r\n    <path clip-path=\"url(#p33000e58ac)\" d=\"M 266.4 372.147496 \r\nL 293.588811 372.147496 \r\n\" style=\"fill:none;stroke:#008000;stroke-linecap:square;stroke-width:2;\"/>\r\n   </g>\r\n   <g id=\"line2d_30\">\r\n    <path clip-path=\"url(#p33000e58ac)\" d=\"M 293.588811 372.147496 \r\nL 307.183217 372.147496 \r\n\" style=\"fill:none;stroke:#008000;stroke-linecap:square;stroke-width:2;\"/>\r\n   </g>\r\n   <g id=\"line2d_31\">\r\n    <path clip-path=\"url(#p33000e58ac)\" d=\"M 239.211189 190.888754 \r\nL 266.4 190.888754 \r\n\" style=\"fill:none;stroke:#008000;stroke-linecap:square;stroke-width:2;\"/>\r\n   </g>\r\n   <g id=\"line2d_32\">\r\n    <path clip-path=\"url(#p33000e58ac)\" d=\"M 225.616783 190.888754 \r\nL 239.211189 190.888754 \r\n\" style=\"fill:none;stroke:#008000;stroke-linecap:square;stroke-width:2;\"/>\r\n   </g>\r\n   <g id=\"line2d_33\">\r\n    <path clip-path=\"url(#p33000e58ac)\" d=\"M 175.770629 281.518125 \r\nL 175.770629 308.706936 \r\n\" style=\"fill:none;stroke:#ff0000;stroke-linecap:square;stroke-width:2;\"/>\r\n   </g>\r\n   <g id=\"line2d_34\">\r\n    <path clip-path=\"url(#p33000e58ac)\" d=\"M 175.770629 308.706936 \r\nL 175.770629 322.301342 \r\n\" style=\"fill:none;stroke:#008000;stroke-linecap:square;stroke-width:2;\"/>\r\n   </g>\r\n   <g id=\"line2d_35\">\r\n    <path clip-path=\"url(#p33000e58ac)\" d=\"M 357.029371 254.329314 \r\nL 357.029371 281.518125 \r\n\" style=\"fill:none;stroke:#ff0000;stroke-linecap:square;stroke-width:2;\"/>\r\n   </g>\r\n   <g id=\"line2d_36\">\r\n    <path clip-path=\"url(#p33000e58ac)\" d=\"M 357.029371 240.734908 \r\nL 357.029371 254.329314 \r\n\" style=\"fill:none;stroke:#008000;stroke-linecap:square;stroke-width:2;\"/>\r\n   </g>\r\n   <g id=\"line2d_37\">\r\n    <path clip-path=\"url(#p33000e58ac)\" d=\"M 307.183217 372.147496 \r\nL 357.029371 322.301342 \r\n\" style=\"fill:none;stroke:#000000;stroke-linecap:square;stroke-width:1.5;\"/>\r\n   </g>\r\n   <g id=\"line2d_38\">\r\n    <path clip-path=\"url(#p33000e58ac)\" d=\"M 307.183217 190.888754 \r\nL 357.029371 240.734908 \r\n\" style=\"fill:none;stroke:#000000;stroke-linecap:square;stroke-width:1.5;\"/>\r\n   </g>\r\n   <g id=\"line2d_39\">\r\n    <path clip-path=\"url(#p33000e58ac)\" d=\"M 225.616783 372.147496 \r\nL 175.770629 322.301342 \r\n\" style=\"fill:none;stroke:#000000;stroke-linecap:square;stroke-width:1.5;\"/>\r\n   </g>\r\n   <g id=\"line2d_40\">\r\n    <path clip-path=\"url(#p33000e58ac)\" d=\"M 225.616783 190.888754 \r\nL 175.770629 240.734908 \r\n\" style=\"fill:none;stroke:#000000;stroke-linecap:square;stroke-width:1.5;\"/>\r\n   </g>\r\n   <g id=\"line2d_41\">\r\n    <path clip-path=\"url(#p33000e58ac)\" d=\"M 286.791608 517.154489 \r\nL 286.791608 45.881761 \r\nL 286.791608 45.881761 \r\n\" style=\"fill:none;stroke:#008000;stroke-linecap:square;stroke-opacity:0.1;stroke-width:1.5;\"/>\r\n   </g>\r\n   <g id=\"line2d_42\">\r\n    <path clip-path=\"url(#p33000e58ac)\" d=\"M 286.791608 517.154489 \r\nL 286.680972 363.348995 \r\nL 286.330747 353.515549 \r\nL 285.708916 342.441851 \r\nL 284.767209 329.738322 \r\nL 283.414368 314.600308 \r\nL 281.388092 294.596636 \r\nL 276.09339 243.306431 \r\nL 274.816478 228.17209 \r\nL 273.973153 215.599735 \r\nL 273.459738 204.703117 \r\nL 273.222906 195.053382 \r\nL 273.197203 183.74716 \r\nL 273.197203 45.881761 \r\nL 273.197203 45.881761 \r\n\" style=\"fill:none;stroke:#008000;stroke-linecap:square;stroke-opacity:0.1;stroke-width:1.5;\"/>\r\n   </g>\r\n   <g id=\"line2d_43\">\r\n    <path clip-path=\"url(#p33000e58ac)\" d=\"M 286.791608 517.154489 \r\nL 286.902245 363.348995 \r\nL 287.252469 353.515549 \r\nL 287.874301 342.441851 \r\nL 288.816008 329.738322 \r\nL 290.168849 314.600308 \r\nL 292.195125 294.596636 \r\nL 297.489827 243.306431 \r\nL 298.766739 228.17209 \r\nL 299.610064 215.599735 \r\nL 300.123479 204.703117 \r\nL 300.360311 195.053382 \r\nL 300.386014 183.74716 \r\nL 300.386014 45.881761 \r\nL 300.386014 45.881761 \r\n\" style=\"fill:none;stroke:#008000;stroke-linecap:square;stroke-opacity:0.1;stroke-width:1.5;\"/>\r\n   </g>\r\n   <g id=\"line2d_44\">\r\n    <path clip-path=\"url(#p33000e58ac)\" d=\"M 273.197203 517.154489 \r\nL 273.086747 367.509558 \r\nL 272.75563 362.882137 \r\nL 272.204603 358.275725 \r\nL 271.434914 353.700767 \r\nL 270.44831 349.167636 \r\nL 269.247028 344.686611 \r\nL 267.83379 340.267853 \r\nL 266.211803 335.921381 \r\nL 264.384743 331.65705 \r\nL 262.356753 327.484531 \r\nL 260.132432 323.413283 \r\nL 257.716823 319.452538 \r\nL 255.115404 315.611278 \r\nL 252.334073 311.898211 \r\nL 249.379137 308.321758 \r\nL 246.257296 304.890028 \r\nL 242.975629 301.610802 \r\nL 239.541577 298.491515 \r\nL 235.962926 295.539241 \r\nL 232.247791 292.760674 \r\nL 228.404596 290.162114 \r\nL 224.442055 287.749453 \r\nL 220.369153 285.528162 \r\nL 216.195125 283.503278 \r\nL 211.929437 281.679391 \r\nL 207.581759 280.060639 \r\nL 203.16195 278.65069 \r\nL 198.680033 277.452742 \r\nL 194.146169 276.469511 \r\nL 189.570639 275.703227 \r\nL 184.963819 275.155628 \r\nL 180.336152 274.827954 \r\nL 175.698126 274.720922 \r\nL 30.763636 274.720922 \r\nL 30.763636 274.720922 \r\n\" style=\"fill:none;stroke:#008000;stroke-linecap:square;stroke-opacity:0.1;stroke-width:1.5;\"/>\r\n   </g>\r\n   <g id=\"line2d_45\">\r\n    <path clip-path=\"url(#p33000e58ac)\" d=\"M 273.197203 517.154489 \r\nL 273.086747 353.915153 \r\nL 272.75563 349.287732 \r\nL 272.204603 344.68132 \r\nL 271.434914 340.106361 \r\nL 270.44831 335.57323 \r\nL 269.247028 331.092206 \r\nL 267.83379 326.673447 \r\nL 266.211803 322.326975 \r\nL 264.384743 318.062645 \r\nL 262.356753 313.890125 \r\nL 260.132432 309.818877 \r\nL 257.716823 305.858133 \r\nL 255.115404 302.016872 \r\nL 252.334073 298.303806 \r\nL 249.379137 294.727353 \r\nL 246.257296 291.295622 \r\nL 242.975629 288.016396 \r\nL 239.541577 284.89711 \r\nL 235.962926 281.944836 \r\nL 232.247791 279.166269 \r\nL 228.404596 276.567709 \r\nL 224.442055 274.155048 \r\nL 220.369153 271.933757 \r\nL 216.195125 269.908872 \r\nL 211.929437 268.084986 \r\nL 207.581759 266.466233 \r\nL 203.16195 265.056284 \r\nL 198.680033 263.858336 \r\nL 194.146169 262.875105 \r\nL 189.570639 262.108821 \r\nL 184.963819 261.561222 \r\nL 180.336152 261.233548 \r\nL 175.698126 261.126517 \r\nL 30.763636 261.126517 \r\nL 30.763636 261.126517 \r\n\" style=\"fill:none;stroke:#008000;stroke-linecap:square;stroke-opacity:0.1;stroke-width:1.5;\"/>\r\n   </g>\r\n   <g id=\"line2d_46\">\r\n    <path clip-path=\"url(#p33000e58ac)\" d=\"M 273.197203 517.154489 \r\nL 273.086747 340.320747 \r\nL 272.75563 335.693326 \r\nL 272.204603 331.086914 \r\nL 271.434914 326.511956 \r\nL 270.44831 321.978825 \r\nL 269.247028 317.4978 \r\nL 267.83379 313.079042 \r\nL 266.211803 308.73257 \r\nL 264.384743 304.468239 \r\nL 262.356753 300.29572 \r\nL 260.132432 296.224472 \r\nL 257.716823 292.263727 \r\nL 255.115404 288.422467 \r\nL 252.334073 284.7094 \r\nL 249.379137 281.132947 \r\nL 246.257296 277.701217 \r\nL 242.975629 274.421991 \r\nL 239.541577 271.302704 \r\nL 235.962926 268.35043 \r\nL 232.247791 265.571863 \r\nL 228.404596 262.973303 \r\nL 224.442055 260.560642 \r\nL 220.369153 258.339351 \r\nL 216.195125 256.314467 \r\nL 211.929437 254.49058 \r\nL 207.581759 252.871827 \r\nL 203.16195 251.461878 \r\nL 198.680033 250.26393 \r\nL 194.146169 249.2807 \r\nL 189.570639 248.514416 \r\nL 184.963819 247.966816 \r\nL 180.336152 247.639143 \r\nL 175.698126 247.532111 \r\nL 30.763636 247.532111 \r\nL 30.763636 247.532111 \r\n\" style=\"fill:none;stroke:#008000;stroke-linecap:square;stroke-opacity:0.1;stroke-width:1.5;\"/>\r\n   </g>\r\n   <g id=\"line2d_47\">\r\n    <path clip-path=\"url(#p33000e58ac)\" d=\"M 300.386014 517.154489 \r\nL 300.495161 368.632806 \r\nL 300.826685 365.095685 \r\nL 301.379294 361.586304 \r\nL 302.150812 358.118467 \r\nL 303.138206 354.705816 \r\nL 304.337591 351.361775 \r\nL 305.744249 348.099499 \r\nL 307.352647 344.931821 \r\nL 309.156458 341.8712 \r\nL 311.148586 338.929677 \r\nL 313.321195 336.118823 \r\nL 315.665739 333.449694 \r\nL 318.172995 330.932791 \r\nL 320.833099 328.578013 \r\nL 323.635589 326.394625 \r\nL 326.569439 324.391214 \r\nL 329.623109 322.575662 \r\nL 332.784588 320.95511 \r\nL 336.041437 319.535933 \r\nL 339.380847 318.323714 \r\nL 342.789681 317.323221 \r\nL 346.254529 316.53839 \r\nL 349.761762 315.972308 \r\nL 353.297584 315.627202 \r\nL 356.848085 315.504429 \r\nL 395.492478 315.504139 \r\nL 502.036364 315.504139 \r\nL 502.036364 315.504139 \r\n\" style=\"fill:none;stroke:#008000;stroke-linecap:square;stroke-opacity:0.1;stroke-width:1.5;\"/>\r\n   </g>\r\n   <g id=\"line2d_48\">\r\n    <path clip-path=\"url(#p33000e58ac)\" d=\"M 246.008392 45.881761 \r\nL 246.008392 517.154489 \r\nL 246.008392 517.154489 \r\n\" style=\"fill:none;stroke:#008000;stroke-linecap:square;stroke-opacity:0.1;stroke-width:1.5;\"/>\r\n   </g>\r\n   <g id=\"line2d_49\">\r\n    <path clip-path=\"url(#p33000e58ac)\" d=\"M 259.602797 45.881761 \r\nL 259.713253 195.526692 \r\nL 260.04437 200.154113 \r\nL 260.595397 204.760525 \r\nL 261.365086 209.335483 \r\nL 262.35169 213.868614 \r\nL 263.552972 218.349639 \r\nL 264.96621 222.768397 \r\nL 266.588197 227.114869 \r\nL 268.415257 231.3792 \r\nL 270.443247 235.551719 \r\nL 272.667568 239.622967 \r\nL 275.083177 243.583712 \r\nL 277.684596 247.424972 \r\nL 280.465927 251.138039 \r\nL 283.420863 254.714492 \r\nL 286.542704 258.146222 \r\nL 289.824371 261.425448 \r\nL 293.258423 264.544735 \r\nL 296.837074 267.497009 \r\nL 300.552209 270.275576 \r\nL 304.395404 272.874136 \r\nL 308.357945 275.286797 \r\nL 312.430847 277.508088 \r\nL 316.604875 279.532972 \r\nL 320.870563 281.356859 \r\nL 325.218241 282.975611 \r\nL 329.63805 284.38556 \r\nL 334.119967 285.583508 \r\nL 338.653831 286.566739 \r\nL 343.229361 287.333023 \r\nL 347.836181 287.880622 \r\nL 352.463848 288.208296 \r\nL 357.101874 288.315328 \r\nL 502.036364 288.315328 \r\nL 502.036364 288.315328 \r\n\" style=\"fill:none;stroke:#008000;stroke-linecap:square;stroke-opacity:0.1;stroke-width:1.5;\"/>\r\n   </g>\r\n   <g id=\"line2d_50\">\r\n    <path clip-path=\"url(#p33000e58ac)\" d=\"M 246.008392 45.881761 \r\nL 246.119028 199.687255 \r\nL 246.469253 209.520701 \r\nL 247.091084 220.594399 \r\nL 248.032791 233.297928 \r\nL 249.385632 248.435942 \r\nL 251.411908 268.439614 \r\nL 256.70661 319.729819 \r\nL 257.983522 334.86416 \r\nL 258.826847 347.436515 \r\nL 259.340262 358.333133 \r\nL 259.577094 367.982868 \r\nL 259.602797 379.28909 \r\nL 259.602797 517.154489 \r\nL 259.602797 517.154489 \r\n\" style=\"fill:none;stroke:#008000;stroke-linecap:square;stroke-opacity:0.1;stroke-width:1.5;\"/>\r\n   </g>\r\n   <g id=\"line2d_51\">\r\n    <path clip-path=\"url(#p33000e58ac)\" d=\"M 259.602797 45.881761 \r\nL 259.713253 209.121097 \r\nL 260.04437 213.748518 \r\nL 260.595397 218.35493 \r\nL 261.365086 222.929889 \r\nL 262.35169 227.46302 \r\nL 263.552972 231.944044 \r\nL 264.96621 236.362803 \r\nL 266.588197 240.709275 \r\nL 268.415257 244.973605 \r\nL 270.443247 249.146125 \r\nL 272.667568 253.217373 \r\nL 275.083177 257.178117 \r\nL 277.684596 261.019378 \r\nL 280.465927 264.732444 \r\nL 283.420863 268.308897 \r\nL 286.542704 271.740628 \r\nL 289.824371 275.019854 \r\nL 293.258423 278.13914 \r\nL 296.837074 281.091414 \r\nL 300.552209 283.869981 \r\nL 304.395404 286.468541 \r\nL 308.357945 288.881202 \r\nL 312.430847 291.102493 \r\nL 316.604875 293.127378 \r\nL 320.870563 294.951264 \r\nL 325.218241 296.570017 \r\nL 329.63805 297.979966 \r\nL 334.119967 299.177914 \r\nL 338.653831 300.161145 \r\nL 343.229361 300.927429 \r\nL 347.836181 301.475028 \r\nL 352.463848 301.802702 \r\nL 357.101874 301.909733 \r\nL 502.036364 301.909733 \r\nL 502.036364 301.909733 \r\n\" style=\"fill:none;stroke:#008000;stroke-linecap:square;stroke-opacity:0.1;stroke-width:1.5;\"/>\r\n   </g>\r\n   <g id=\"line2d_52\">\r\n    <path clip-path=\"url(#p33000e58ac)\" d=\"M 246.008392 45.881761 \r\nL 245.897755 199.687255 \r\nL 245.547531 209.520701 \r\nL 244.925699 220.594399 \r\nL 243.983992 233.297928 \r\nL 242.631151 248.435942 \r\nL 240.604875 268.439614 \r\nL 235.310173 319.729819 \r\nL 234.033261 334.86416 \r\nL 233.189936 347.436515 \r\nL 232.676521 358.333133 \r\nL 232.439689 367.982868 \r\nL 232.413986 379.28909 \r\nL 232.413986 517.154489 \r\nL 232.413986 517.154489 \r\n\" style=\"fill:none;stroke:#008000;stroke-linecap:square;stroke-opacity:0.1;stroke-width:1.5;\"/>\r\n   </g>\r\n   <g id=\"line2d_53\">\r\n    <path clip-path=\"url(#p33000e58ac)\" d=\"M 259.602797 45.881761 \r\nL 259.713253 222.715503 \r\nL 260.04437 227.342924 \r\nL 260.595397 231.949336 \r\nL 261.365086 236.524294 \r\nL 262.35169 241.057425 \r\nL 263.552972 245.53845 \r\nL 264.96621 249.957208 \r\nL 266.588197 254.30368 \r\nL 268.415257 258.568011 \r\nL 270.443247 262.74053 \r\nL 272.667568 266.811778 \r\nL 275.083177 270.772523 \r\nL 277.684596 274.613783 \r\nL 280.465927 278.32685 \r\nL 283.420863 281.903303 \r\nL 286.542704 285.335033 \r\nL 289.824371 288.614259 \r\nL 293.258423 291.733546 \r\nL 296.837074 294.68582 \r\nL 300.552209 297.464387 \r\nL 304.395404 300.062947 \r\nL 308.357945 302.475608 \r\nL 312.430847 304.696899 \r\nL 316.604875 306.721783 \r\nL 320.870563 308.54567 \r\nL 325.218241 310.164423 \r\nL 329.63805 311.574372 \r\nL 334.119967 312.77232 \r\nL 338.653831 313.75555 \r\nL 343.229361 314.521834 \r\nL 347.836181 315.069434 \r\nL 352.463848 315.397107 \r\nL 357.101874 315.504139 \r\nL 502.036364 315.504139 \r\nL 502.036364 315.504139 \r\n\" style=\"fill:none;stroke:#008000;stroke-linecap:square;stroke-opacity:0.1;stroke-width:1.5;\"/>\r\n   </g>\r\n   <g id=\"line2d_54\">\r\n    <path clip-path=\"url(#p33000e58ac)\" d=\"M 502.036364 247.532111 \r\nL 353.514681 247.422964 \r\nL 349.97756 247.09144 \r\nL 346.468179 246.538831 \r\nL 343.000342 245.767313 \r\nL 339.587691 244.779919 \r\nL 336.24365 243.580534 \r\nL 332.981374 242.173876 \r\nL 329.813696 240.565478 \r\nL 326.753075 238.761667 \r\nL 323.811552 236.769539 \r\nL 321.000698 234.59693 \r\nL 318.331569 232.252386 \r\nL 315.814666 229.74513 \r\nL 313.459888 227.085026 \r\nL 311.2765 224.282536 \r\nL 309.273089 221.348686 \r\nL 307.457537 218.295016 \r\nL 305.836985 215.133537 \r\nL 304.417808 211.876688 \r\nL 303.205589 208.537278 \r\nL 302.205096 205.128444 \r\nL 301.420265 201.663596 \r\nL 300.854183 198.156363 \r\nL 300.509077 194.620541 \r\nL 300.386304 191.07004 \r\nL 300.386014 152.425647 \r\nL 300.386014 45.881761 \r\nL 300.386014 45.881761 \r\n\" style=\"fill:none;stroke:#008000;stroke-linecap:square;stroke-opacity:0.1;stroke-width:1.5;\"/>\r\n   </g>\r\n   <g id=\"line2d_55\">\r\n    <path clip-path=\"url(#p33000e58ac)\" d=\"M 232.413986 45.881761 \r\nL 232.304839 194.403444 \r\nL 231.973315 197.940565 \r\nL 231.420706 201.449946 \r\nL 230.649188 204.917783 \r\nL 229.661794 208.330434 \r\nL 228.462409 211.674475 \r\nL 227.055751 214.936751 \r\nL 225.447353 218.104429 \r\nL 223.643542 221.16505 \r\nL 221.651414 224.106573 \r\nL 219.478805 226.917427 \r\nL 217.134261 229.586556 \r\nL 214.627005 232.103459 \r\nL 211.966901 234.458237 \r\nL 209.164411 236.641625 \r\nL 206.230561 238.645036 \r\nL 203.176891 240.460588 \r\nL 200.015412 242.08114 \r\nL 196.758563 243.500317 \r\nL 193.419153 244.712536 \r\nL 190.010319 245.713029 \r\nL 186.545471 246.49786 \r\nL 183.038238 247.063942 \r\nL 179.502416 247.409048 \r\nL 175.951915 247.531821 \r\nL 137.307522 247.532111 \r\nL 30.763636 247.532111 \r\nL 30.763636 247.532111 \r\n\" style=\"fill:none;stroke:#008000;stroke-linecap:square;stroke-opacity:0.1;stroke-width:1.5;\"/>\r\n   </g>\r\n   <g id=\"line2d_56\">\r\n    <path clip-path=\"url(#p33000e58ac)\" d=\"M 30.763636 315.504139 \r\nL 179.285319 315.613286 \r\nL 182.82244 315.94481 \r\nL 186.331821 316.497419 \r\nL 189.799658 317.268937 \r\nL 193.212309 318.256331 \r\nL 196.55635 319.455716 \r\nL 199.818626 320.862374 \r\nL 202.986304 322.470772 \r\nL 206.046925 324.274583 \r\nL 208.988448 326.266711 \r\nL 211.799302 328.43932 \r\nL 214.468431 330.783864 \r\nL 216.985334 333.29112 \r\nL 219.340112 335.951224 \r\nL 221.5235 338.753714 \r\nL 223.526911 341.687564 \r\nL 225.342463 344.741234 \r\nL 226.963015 347.902713 \r\nL 228.382192 351.159562 \r\nL 229.594411 354.498972 \r\nL 230.594904 357.907806 \r\nL 231.379735 361.372654 \r\nL 231.945817 364.879887 \r\nL 232.290923 368.415709 \r\nL 232.413696 371.96621 \r\nL 232.413986 410.610603 \r\nL 232.413986 517.154489 \r\nL 232.413986 517.154489 \r\n\" style=\"fill:none;stroke:#008000;stroke-linecap:square;stroke-opacity:0.1;stroke-width:1.5;\"/>\r\n   </g>\r\n   <g id=\"line2d_57\">\r\n    <path clip-path=\"url(#p33000e58ac)\" d=\"M 302.651748 245.266377 \r\nL 338.903497 209.014628 \r\nL 375.155245 172.76288 \r\n\" style=\"fill:none;stroke:#1f77b4;stroke-linecap:square;stroke-width:1.5;\"/>\r\n   </g>\r\n   <g id=\"line2d_58\">\r\n    <path clip-path=\"url(#p33000e58ac)\" d=\"M 302.651748 209.014628 \r\nL 338.903497 172.76288 \r\nL 375.155245 136.511132 \r\n\" style=\"fill:none;stroke:#ff7f0e;stroke-linecap:square;stroke-width:1.5;\"/>\r\n   </g>\r\n   <g id=\"text_1\">\r\n    <!-- Intersection -->\r\n    <defs>\r\n     <path d=\"M 9.8125 72.90625 \r\nL 19.671875 72.90625 \r\nL 19.671875 0 \r\nL 9.8125 0 \r\nz\r\n\" id=\"DejaVuSans-73\"/>\r\n     <path d=\"M 54.890625 33.015625 \r\nL 54.890625 0 \r\nL 45.90625 0 \r\nL 45.90625 32.71875 \r\nQ 45.90625 40.484375 42.875 44.328125 \r\nQ 39.84375 48.1875 33.796875 48.1875 \r\nQ 26.515625 48.1875 22.3125 43.546875 \r\nQ 18.109375 38.921875 18.109375 30.90625 \r\nL 18.109375 0 \r\nL 9.078125 0 \r\nL 9.078125 54.6875 \r\nL 18.109375 54.6875 \r\nL 18.109375 46.1875 \r\nQ 21.34375 51.125 25.703125 53.5625 \r\nQ 30.078125 56 35.796875 56 \r\nQ 45.21875 56 50.046875 50.171875 \r\nQ 54.890625 44.34375 54.890625 33.015625 \r\nz\r\n\" id=\"DejaVuSans-110\"/>\r\n     <path d=\"M 18.3125 70.21875 \r\nL 18.3125 54.6875 \r\nL 36.8125 54.6875 \r\nL 36.8125 47.703125 \r\nL 18.3125 47.703125 \r\nL 18.3125 18.015625 \r\nQ 18.3125 11.328125 20.140625 9.421875 \r\nQ 21.96875 7.515625 27.59375 7.515625 \r\nL 36.8125 7.515625 \r\nL 36.8125 0 \r\nL 27.59375 0 \r\nQ 17.1875 0 13.234375 3.875 \r\nQ 9.28125 7.765625 9.28125 18.015625 \r\nL 9.28125 47.703125 \r\nL 2.6875 47.703125 \r\nL 2.6875 54.6875 \r\nL 9.28125 54.6875 \r\nL 9.28125 70.21875 \r\nz\r\n\" id=\"DejaVuSans-116\"/>\r\n     <path d=\"M 56.203125 29.59375 \r\nL 56.203125 25.203125 \r\nL 14.890625 25.203125 \r\nQ 15.484375 15.921875 20.484375 11.0625 \r\nQ 25.484375 6.203125 34.421875 6.203125 \r\nQ 39.59375 6.203125 44.453125 7.46875 \r\nQ 49.3125 8.734375 54.109375 11.28125 \r\nL 54.109375 2.78125 \r\nQ 49.265625 0.734375 44.1875 -0.34375 \r\nQ 39.109375 -1.421875 33.890625 -1.421875 \r\nQ 20.796875 -1.421875 13.15625 6.1875 \r\nQ 5.515625 13.8125 5.515625 26.8125 \r\nQ 5.515625 40.234375 12.765625 48.109375 \r\nQ 20.015625 56 32.328125 56 \r\nQ 43.359375 56 49.78125 48.890625 \r\nQ 56.203125 41.796875 56.203125 29.59375 \r\nz\r\nM 47.21875 32.234375 \r\nQ 47.125 39.59375 43.09375 43.984375 \r\nQ 39.0625 48.390625 32.421875 48.390625 \r\nQ 24.90625 48.390625 20.390625 44.140625 \r\nQ 15.875 39.890625 15.1875 32.171875 \r\nz\r\n\" id=\"DejaVuSans-101\"/>\r\n     <path d=\"M 41.109375 46.296875 \r\nQ 39.59375 47.171875 37.8125 47.578125 \r\nQ 36.03125 48 33.890625 48 \r\nQ 26.265625 48 22.1875 43.046875 \r\nQ 18.109375 38.09375 18.109375 28.8125 \r\nL 18.109375 0 \r\nL 9.078125 0 \r\nL 9.078125 54.6875 \r\nL 18.109375 54.6875 \r\nL 18.109375 46.1875 \r\nQ 20.953125 51.171875 25.484375 53.578125 \r\nQ 30.03125 56 36.53125 56 \r\nQ 37.453125 56 38.578125 55.875 \r\nQ 39.703125 55.765625 41.0625 55.515625 \r\nz\r\n\" id=\"DejaVuSans-114\"/>\r\n     <path d=\"M 44.28125 53.078125 \r\nL 44.28125 44.578125 \r\nQ 40.484375 46.53125 36.375 47.5 \r\nQ 32.28125 48.484375 27.875 48.484375 \r\nQ 21.1875 48.484375 17.84375 46.4375 \r\nQ 14.5 44.390625 14.5 40.28125 \r\nQ 14.5 37.15625 16.890625 35.375 \r\nQ 19.28125 33.59375 26.515625 31.984375 \r\nL 29.59375 31.296875 \r\nQ 39.15625 29.25 43.1875 25.515625 \r\nQ 47.21875 21.78125 47.21875 15.09375 \r\nQ 47.21875 7.46875 41.1875 3.015625 \r\nQ 35.15625 -1.421875 24.609375 -1.421875 \r\nQ 20.21875 -1.421875 15.453125 -0.5625 \r\nQ 10.6875 0.296875 5.421875 2 \r\nL 5.421875 11.28125 \r\nQ 10.40625 8.6875 15.234375 7.390625 \r\nQ 20.0625 6.109375 24.8125 6.109375 \r\nQ 31.15625 6.109375 34.5625 8.28125 \r\nQ 37.984375 10.453125 37.984375 14.40625 \r\nQ 37.984375 18.0625 35.515625 20.015625 \r\nQ 33.0625 21.96875 24.703125 23.78125 \r\nL 21.578125 24.515625 \r\nQ 13.234375 26.265625 9.515625 29.90625 \r\nQ 5.8125 33.546875 5.8125 39.890625 \r\nQ 5.8125 47.609375 11.28125 51.796875 \r\nQ 16.75 56 26.8125 56 \r\nQ 31.78125 56 36.171875 55.265625 \r\nQ 40.578125 54.546875 44.28125 53.078125 \r\nz\r\n\" id=\"DejaVuSans-115\"/>\r\n     <path d=\"M 48.78125 52.59375 \r\nL 48.78125 44.1875 \r\nQ 44.96875 46.296875 41.140625 47.34375 \r\nQ 37.3125 48.390625 33.40625 48.390625 \r\nQ 24.65625 48.390625 19.8125 42.84375 \r\nQ 14.984375 37.3125 14.984375 27.296875 \r\nQ 14.984375 17.28125 19.8125 11.734375 \r\nQ 24.65625 6.203125 33.40625 6.203125 \r\nQ 37.3125 6.203125 41.140625 7.25 \r\nQ 44.96875 8.296875 48.78125 10.40625 \r\nL 48.78125 2.09375 \r\nQ 45.015625 0.34375 40.984375 -0.53125 \r\nQ 36.96875 -1.421875 32.421875 -1.421875 \r\nQ 20.0625 -1.421875 12.78125 6.34375 \r\nQ 5.515625 14.109375 5.515625 27.296875 \r\nQ 5.515625 40.671875 12.859375 48.328125 \r\nQ 20.21875 56 33.015625 56 \r\nQ 37.15625 56 41.109375 55.140625 \r\nQ 45.0625 54.296875 48.78125 52.59375 \r\nz\r\n\" id=\"DejaVuSans-99\"/>\r\n     <path d=\"M 9.421875 54.6875 \r\nL 18.40625 54.6875 \r\nL 18.40625 0 \r\nL 9.421875 0 \r\nz\r\nM 9.421875 75.984375 \r\nL 18.40625 75.984375 \r\nL 18.40625 64.59375 \r\nL 9.421875 64.59375 \r\nz\r\n\" id=\"DejaVuSans-105\"/>\r\n     <path d=\"M 30.609375 48.390625 \r\nQ 23.390625 48.390625 19.1875 42.75 \r\nQ 14.984375 37.109375 14.984375 27.296875 \r\nQ 14.984375 17.484375 19.15625 11.84375 \r\nQ 23.34375 6.203125 30.609375 6.203125 \r\nQ 37.796875 6.203125 41.984375 11.859375 \r\nQ 46.1875 17.53125 46.1875 27.296875 \r\nQ 46.1875 37.015625 41.984375 42.703125 \r\nQ 37.796875 48.390625 30.609375 48.390625 \r\nz\r\nM 30.609375 56 \r\nQ 42.328125 56 49.015625 48.375 \r\nQ 55.71875 40.765625 55.71875 27.296875 \r\nQ 55.71875 13.875 49.015625 6.21875 \r\nQ 42.328125 -1.421875 30.609375 -1.421875 \r\nQ 18.84375 -1.421875 12.171875 6.21875 \r\nQ 5.515625 13.875 5.515625 27.296875 \r\nQ 5.515625 40.765625 12.171875 48.375 \r\nQ 18.84375 56 30.609375 56 \r\nz\r\n\" id=\"DejaVuSans-111\"/>\r\n    </defs>\r\n    <g transform=\"translate(230.7075 16.318125)scale(0.12 -0.12)\">\r\n     <use xlink:href=\"#DejaVuSans-73\"/>\r\n     <use x=\"29.492188\" xlink:href=\"#DejaVuSans-110\"/>\r\n     <use x=\"92.871094\" xlink:href=\"#DejaVuSans-116\"/>\r\n     <use x=\"132.080078\" xlink:href=\"#DejaVuSans-101\"/>\r\n     <use x=\"193.603516\" xlink:href=\"#DejaVuSans-114\"/>\r\n     <use x=\"234.716797\" xlink:href=\"#DejaVuSans-115\"/>\r\n     <use x=\"286.816406\" xlink:href=\"#DejaVuSans-101\"/>\r\n     <use x=\"348.339844\" xlink:href=\"#DejaVuSans-99\"/>\r\n     <use x=\"403.320312\" xlink:href=\"#DejaVuSans-116\"/>\r\n     <use x=\"442.529297\" xlink:href=\"#DejaVuSans-105\"/>\r\n     <use x=\"470.3125\" xlink:href=\"#DejaVuSans-111\"/>\r\n     <use x=\"531.494141\" xlink:href=\"#DejaVuSans-110\"/>\r\n    </g>\r\n   </g>\r\n  </g>\r\n </g>\r\n <defs>\r\n  <clipPath id=\"p33000e58ac\">\r\n   <rect height=\"518.4\" width=\"518.4\" x=\"7.2\" y=\"22.318125\"/>\r\n  </clipPath>\r\n </defs>\r\n</svg>\r\n",
      "image/png": "[encoded data removed]"
     },
     "metadata": {
      "needs_background": "light"
     }
    }
   ],
   "source": [
    "from static_map import static_view\n",
    "fig, ax = static_view(0)\n",
    "line = []\n",
    "line.append(ax.plot([10, 20, 30], [10, 20, 30]))\n",
    "line.append(ax.plot([10, 20, 30], [10+10, 20+10, 30+10]))\n"
   ]
  },
  {
   "cell_type": "code",
   "execution_count": 33,
   "metadata": {},
   "outputs": [
    {
     "output_type": "execute_result",
     "data": {
      "text/plain": [
       "<Figure size 800x800 with 1 Axes>"
      ],
      "image/svg+xml": "<?xml version=\"1.0\" encoding=\"utf-8\" standalone=\"no\"?>\r\n<!DOCTYPE svg PUBLIC \"-//W3C//DTD SVG 1.1//EN\"\r\n  \"http://www.w3.org/Graphics/SVG/1.1/DTD/svg11.dtd\">\r\n<!-- Created with matplotlib (https://matplotlib.org/) -->\r\n<svg height=\"547.918125pt\" version=\"1.1\" viewBox=\"0 0 532.8 547.918125\" width=\"532.8pt\" xmlns=\"http://www.w3.org/2000/svg\" xmlns:xlink=\"http://www.w3.org/1999/xlink\">\r\n <defs>\r\n  <style type=\"text/css\">\r\n*{stroke-linecap:butt;stroke-linejoin:round;}\r\n  </style>\r\n </defs>\r\n <g id=\"figure_1\">\r\n  <g id=\"patch_1\">\r\n   <path d=\"M 0 547.918125 \r\nL 532.8 547.918125 \r\nL 532.8 0 \r\nL 0 0 \r\nz\r\n\" style=\"fill:none;\"/>\r\n  </g>\r\n  <g id=\"axes_1\">\r\n   <g id=\"patch_2\">\r\n    <path clip-path=\"url(#pd59b342dcf)\" d=\"M 273.197203 390.257056 \r\nL 273.202641 390.27337 \r\nL 273.199015 390.27337 \r\nL 273.199015 408.399244 \r\nL 273.19539 408.399244 \r\nL 273.19539 390.27337 \r\nL 273.191765 390.27337 \r\nz\r\n\" style=\"fill:#808080;stroke:#808080;stroke-linejoin:miter;\"/>\r\n   </g>\r\n   <g id=\"patch_3\">\r\n    <path clip-path=\"url(#pd59b342dcf)\" d=\"M 265.946853 390.27337 \r\nL 271.384615 388.460782 \r\nL 271.384615 390.271557 \r\nL 273.197203 390.271557 \r\nL 273.197203 390.275182 \r\nL 271.384615 390.275182 \r\nL 271.384615 392.085957 \r\nz\r\n\" style=\"fill:#808080;stroke:#808080;stroke-linejoin:miter;\"/>\r\n   </g>\r\n   <g id=\"patch_4\">\r\n    <path clip-path=\"url(#pd59b342dcf)\" d=\"M 286.791608 384.835608 \r\nL 288.604196 390.27337 \r\nL 286.793421 390.27337 \r\nL 286.793421 408.399244 \r\nL 286.789796 408.399244 \r\nL 286.789796 390.27337 \r\nL 284.979021 390.27337 \r\nz\r\n\" style=\"fill:#808080;stroke:#808080;stroke-linejoin:miter;\"/>\r\n   </g>\r\n   <g id=\"patch_5\">\r\n    <path clip-path=\"url(#pd59b342dcf)\" d=\"M 300.386014 390.257056 \r\nL 300.391452 390.27337 \r\nL 300.387827 390.27337 \r\nL 300.387827 408.399244 \r\nL 300.384201 408.399244 \r\nL 300.384201 390.27337 \r\nL 300.380576 390.27337 \r\nz\r\n\" style=\"fill:#808080;stroke:#808080;stroke-linejoin:miter;\"/>\r\n   </g>\r\n   <g id=\"patch_6\">\r\n    <path clip-path=\"url(#pd59b342dcf)\" d=\"M 307.636364 390.27337 \r\nL 302.198601 392.085957 \r\nL 302.198601 390.275182 \r\nL 300.386014 390.275182 \r\nL 300.386014 390.271557 \r\nL 302.198601 390.271557 \r\nL 302.198601 388.460782 \r\nz\r\n\" style=\"fill:#808080;stroke:#808080;stroke-linejoin:miter;\"/>\r\n   </g>\r\n   <g id=\"line2d_1\">\r\n    <path clip-path=\"url(#pd59b342dcf)\" d=\"M 30.763636 281.518125 \r\nL 175.770629 281.518125 \r\n\" style=\"fill:none;stroke:#ffa500;stroke-linecap:square;stroke-width:1.5;\"/>\r\n   </g>\r\n   <g id=\"line2d_2\">\r\n    <path clip-path=\"url(#pd59b342dcf)\" d=\"M 502.036364 281.518125 \r\nL 357.029371 281.518125 \r\n\" style=\"fill:none;stroke:#ffa500;stroke-linecap:square;stroke-width:1.5;\"/>\r\n   </g>\r\n   <g id=\"line2d_3\">\r\n    <path clip-path=\"url(#pd59b342dcf)\" d=\"M 30.763636 267.923719 \r\nL 175.770629 267.923719 \r\n\" style=\"fill:none;stroke:#000000;stroke-dasharray:5.55,2.4;stroke-dashoffset:0;stroke-width:1.5;\"/>\r\n   </g>\r\n   <g id=\"line2d_4\">\r\n    <path clip-path=\"url(#pd59b342dcf)\" d=\"M 502.036364 267.923719 \r\nL 357.029371 267.923719 \r\n\" style=\"fill:none;stroke:#000000;stroke-dasharray:5.55,2.4;stroke-dashoffset:0;stroke-width:1.5;\"/>\r\n   </g>\r\n   <g id=\"line2d_5\">\r\n    <path clip-path=\"url(#pd59b342dcf)\" d=\"M 30.763636 295.112531 \r\nL 175.770629 295.112531 \r\n\" style=\"fill:none;stroke:#000000;stroke-dasharray:5.55,2.4;stroke-dashoffset:0;stroke-width:1.5;\"/>\r\n   </g>\r\n   <g id=\"line2d_6\">\r\n    <path clip-path=\"url(#pd59b342dcf)\" d=\"M 502.036364 295.112531 \r\nL 357.029371 295.112531 \r\n\" style=\"fill:none;stroke:#000000;stroke-dasharray:5.55,2.4;stroke-dashoffset:0;stroke-width:1.5;\"/>\r\n   </g>\r\n   <g id=\"line2d_7\">\r\n    <path clip-path=\"url(#pd59b342dcf)\" d=\"M 30.763636 254.329314 \r\nL 175.770629 254.329314 \r\n\" style=\"fill:none;stroke:#000000;stroke-dasharray:5.55,2.4;stroke-dashoffset:0;stroke-width:1.5;\"/>\r\n   </g>\r\n   <g id=\"line2d_8\">\r\n    <path clip-path=\"url(#pd59b342dcf)\" d=\"M 502.036364 254.329314 \r\nL 357.029371 254.329314 \r\n\" style=\"fill:none;stroke:#000000;stroke-dasharray:5.55,2.4;stroke-dashoffset:0;stroke-width:1.5;\"/>\r\n   </g>\r\n   <g id=\"line2d_9\">\r\n    <path clip-path=\"url(#pd59b342dcf)\" d=\"M 30.763636 308.706936 \r\nL 175.770629 308.706936 \r\n\" style=\"fill:none;stroke:#000000;stroke-dasharray:5.55,2.4;stroke-dashoffset:0;stroke-width:1.5;\"/>\r\n   </g>\r\n   <g id=\"line2d_10\">\r\n    <path clip-path=\"url(#pd59b342dcf)\" d=\"M 502.036364 308.706936 \r\nL 357.029371 308.706936 \r\n\" style=\"fill:none;stroke:#000000;stroke-dasharray:5.55,2.4;stroke-dashoffset:0;stroke-width:1.5;\"/>\r\n   </g>\r\n   <g id=\"line2d_11\">\r\n    <path clip-path=\"url(#pd59b342dcf)\" d=\"M 30.763636 240.734908 \r\nL 175.770629 240.734908 \r\n\" style=\"fill:none;stroke:#000000;stroke-linecap:square;stroke-width:1.5;\"/>\r\n   </g>\r\n   <g id=\"line2d_12\">\r\n    <path clip-path=\"url(#pd59b342dcf)\" d=\"M 502.036364 240.734908 \r\nL 357.029371 240.734908 \r\n\" style=\"fill:none;stroke:#000000;stroke-linecap:square;stroke-width:1.5;\"/>\r\n   </g>\r\n   <g id=\"line2d_13\">\r\n    <path clip-path=\"url(#pd59b342dcf)\" d=\"M 30.763636 322.301342 \r\nL 175.770629 322.301342 \r\n\" style=\"fill:none;stroke:#000000;stroke-linecap:square;stroke-width:1.5;\"/>\r\n   </g>\r\n   <g id=\"line2d_14\">\r\n    <path clip-path=\"url(#pd59b342dcf)\" d=\"M 502.036364 322.301342 \r\nL 357.029371 322.301342 \r\n\" style=\"fill:none;stroke:#000000;stroke-linecap:square;stroke-width:1.5;\"/>\r\n   </g>\r\n   <g id=\"line2d_15\">\r\n    <path clip-path=\"url(#pd59b342dcf)\" d=\"M 266.4 517.154489 \r\nL 266.4 372.147496 \r\n\" style=\"fill:none;stroke:#ffa500;stroke-linecap:square;stroke-width:1.5;\"/>\r\n   </g>\r\n   <g id=\"line2d_16\">\r\n    <path clip-path=\"url(#pd59b342dcf)\" d=\"M 266.4 45.881761 \r\nL 266.4 190.888754 \r\n\" style=\"fill:none;stroke:#ffa500;stroke-linecap:square;stroke-width:1.5;\"/>\r\n   </g>\r\n   <g id=\"line2d_17\">\r\n    <path clip-path=\"url(#pd59b342dcf)\" d=\"M 279.994406 517.154489 \r\nL 279.994406 372.147496 \r\n\" style=\"fill:none;stroke:#000000;stroke-dasharray:5.55,2.4;stroke-dashoffset:0;stroke-width:1.5;\"/>\r\n   </g>\r\n   <g id=\"line2d_18\">\r\n    <path clip-path=\"url(#pd59b342dcf)\" d=\"M 279.994406 45.881761 \r\nL 279.994406 190.888754 \r\n\" style=\"fill:none;stroke:#000000;stroke-dasharray:5.55,2.4;stroke-dashoffset:0;stroke-width:1.5;\"/>\r\n   </g>\r\n   <g id=\"line2d_19\">\r\n    <path clip-path=\"url(#pd59b342dcf)\" d=\"M 252.805594 517.154489 \r\nL 252.805594 372.147496 \r\n\" style=\"fill:none;stroke:#000000;stroke-dasharray:5.55,2.4;stroke-dashoffset:0;stroke-width:1.5;\"/>\r\n   </g>\r\n   <g id=\"line2d_20\">\r\n    <path clip-path=\"url(#pd59b342dcf)\" d=\"M 252.805594 45.881761 \r\nL 252.805594 190.888754 \r\n\" style=\"fill:none;stroke:#000000;stroke-dasharray:5.55,2.4;stroke-dashoffset:0;stroke-width:1.5;\"/>\r\n   </g>\r\n   <g id=\"line2d_21\">\r\n    <path clip-path=\"url(#pd59b342dcf)\" d=\"M 293.588811 517.154489 \r\nL 293.588811 372.147496 \r\n\" style=\"fill:none;stroke:#000000;stroke-dasharray:5.55,2.4;stroke-dashoffset:0;stroke-width:1.5;\"/>\r\n   </g>\r\n   <g id=\"line2d_22\">\r\n    <path clip-path=\"url(#pd59b342dcf)\" d=\"M 293.588811 45.881761 \r\nL 293.588811 190.888754 \r\n\" style=\"fill:none;stroke:#000000;stroke-dasharray:5.55,2.4;stroke-dashoffset:0;stroke-width:1.5;\"/>\r\n   </g>\r\n   <g id=\"line2d_23\">\r\n    <path clip-path=\"url(#pd59b342dcf)\" d=\"M 239.211189 517.154489 \r\nL 239.211189 372.147496 \r\n\" style=\"fill:none;stroke:#000000;stroke-dasharray:5.55,2.4;stroke-dashoffset:0;stroke-width:1.5;\"/>\r\n   </g>\r\n   <g id=\"line2d_24\">\r\n    <path clip-path=\"url(#pd59b342dcf)\" d=\"M 239.211189 45.881761 \r\nL 239.211189 190.888754 \r\n\" style=\"fill:none;stroke:#000000;stroke-dasharray:5.55,2.4;stroke-dashoffset:0;stroke-width:1.5;\"/>\r\n   </g>\r\n   <g id=\"line2d_25\">\r\n    <path clip-path=\"url(#pd59b342dcf)\" d=\"M 307.183217 517.154489 \r\nL 307.183217 372.147496 \r\n\" style=\"fill:none;stroke:#000000;stroke-linecap:square;stroke-width:1.5;\"/>\r\n   </g>\r\n   <g id=\"line2d_26\">\r\n    <path clip-path=\"url(#pd59b342dcf)\" d=\"M 307.183217 45.881761 \r\nL 307.183217 190.888754 \r\n\" style=\"fill:none;stroke:#000000;stroke-linecap:square;stroke-width:1.5;\"/>\r\n   </g>\r\n   <g id=\"line2d_27\">\r\n    <path clip-path=\"url(#pd59b342dcf)\" d=\"M 225.616783 517.154489 \r\nL 225.616783 372.147496 \r\n\" style=\"fill:none;stroke:#000000;stroke-linecap:square;stroke-width:1.5;\"/>\r\n   </g>\r\n   <g id=\"line2d_28\">\r\n    <path clip-path=\"url(#pd59b342dcf)\" d=\"M 225.616783 45.881761 \r\nL 225.616783 190.888754 \r\n\" style=\"fill:none;stroke:#000000;stroke-linecap:square;stroke-width:1.5;\"/>\r\n   </g>\r\n   <g id=\"line2d_29\">\r\n    <path clip-path=\"url(#pd59b342dcf)\" d=\"M 266.4 372.147496 \r\nL 293.588811 372.147496 \r\n\" style=\"fill:none;stroke:#008000;stroke-linecap:square;stroke-width:2;\"/>\r\n   </g>\r\n   <g id=\"line2d_30\">\r\n    <path clip-path=\"url(#pd59b342dcf)\" d=\"M 293.588811 372.147496 \r\nL 307.183217 372.147496 \r\n\" style=\"fill:none;stroke:#008000;stroke-linecap:square;stroke-width:2;\"/>\r\n   </g>\r\n   <g id=\"line2d_31\">\r\n    <path clip-path=\"url(#pd59b342dcf)\" d=\"M 239.211189 190.888754 \r\nL 266.4 190.888754 \r\n\" style=\"fill:none;stroke:#008000;stroke-linecap:square;stroke-width:2;\"/>\r\n   </g>\r\n   <g id=\"line2d_32\">\r\n    <path clip-path=\"url(#pd59b342dcf)\" d=\"M 225.616783 190.888754 \r\nL 239.211189 190.888754 \r\n\" style=\"fill:none;stroke:#008000;stroke-linecap:square;stroke-width:2;\"/>\r\n   </g>\r\n   <g id=\"line2d_33\">\r\n    <path clip-path=\"url(#pd59b342dcf)\" d=\"M 175.770629 281.518125 \r\nL 175.770629 308.706936 \r\n\" style=\"fill:none;stroke:#ff0000;stroke-linecap:square;stroke-width:2;\"/>\r\n   </g>\r\n   <g id=\"line2d_34\">\r\n    <path clip-path=\"url(#pd59b342dcf)\" d=\"M 175.770629 308.706936 \r\nL 175.770629 322.301342 \r\n\" style=\"fill:none;stroke:#008000;stroke-linecap:square;stroke-width:2;\"/>\r\n   </g>\r\n   <g id=\"line2d_35\">\r\n    <path clip-path=\"url(#pd59b342dcf)\" d=\"M 357.029371 254.329314 \r\nL 357.029371 281.518125 \r\n\" style=\"fill:none;stroke:#ff0000;stroke-linecap:square;stroke-width:2;\"/>\r\n   </g>\r\n   <g id=\"line2d_36\">\r\n    <path clip-path=\"url(#pd59b342dcf)\" d=\"M 357.029371 240.734908 \r\nL 357.029371 254.329314 \r\n\" style=\"fill:none;stroke:#008000;stroke-linecap:square;stroke-width:2;\"/>\r\n   </g>\r\n   <g id=\"line2d_37\">\r\n    <path clip-path=\"url(#pd59b342dcf)\" d=\"M 307.183217 372.147496 \r\nL 357.029371 322.301342 \r\n\" style=\"fill:none;stroke:#000000;stroke-linecap:square;stroke-width:1.5;\"/>\r\n   </g>\r\n   <g id=\"line2d_38\">\r\n    <path clip-path=\"url(#pd59b342dcf)\" d=\"M 307.183217 190.888754 \r\nL 357.029371 240.734908 \r\n\" style=\"fill:none;stroke:#000000;stroke-linecap:square;stroke-width:1.5;\"/>\r\n   </g>\r\n   <g id=\"line2d_39\">\r\n    <path clip-path=\"url(#pd59b342dcf)\" d=\"M 225.616783 372.147496 \r\nL 175.770629 322.301342 \r\n\" style=\"fill:none;stroke:#000000;stroke-linecap:square;stroke-width:1.5;\"/>\r\n   </g>\r\n   <g id=\"line2d_40\">\r\n    <path clip-path=\"url(#pd59b342dcf)\" d=\"M 225.616783 190.888754 \r\nL 175.770629 240.734908 \r\n\" style=\"fill:none;stroke:#000000;stroke-linecap:square;stroke-width:1.5;\"/>\r\n   </g>\r\n   <g id=\"line2d_41\">\r\n    <path clip-path=\"url(#pd59b342dcf)\" d=\"M 286.791608 517.154489 \r\nL 286.791608 45.881761 \r\nL 286.791608 45.881761 \r\n\" style=\"fill:none;stroke:#008000;stroke-linecap:square;stroke-opacity:0.1;stroke-width:1.5;\"/>\r\n   </g>\r\n   <g id=\"line2d_42\">\r\n    <path clip-path=\"url(#pd59b342dcf)\" d=\"M 286.791608 517.154489 \r\nL 286.680972 363.348995 \r\nL 286.330747 353.515549 \r\nL 285.708916 342.441851 \r\nL 284.767209 329.738322 \r\nL 283.414368 314.600308 \r\nL 281.388092 294.596636 \r\nL 276.09339 243.306431 \r\nL 274.816478 228.17209 \r\nL 273.973153 215.599735 \r\nL 273.459738 204.703117 \r\nL 273.222906 195.053382 \r\nL 273.197203 183.74716 \r\nL 273.197203 45.881761 \r\nL 273.197203 45.881761 \r\n\" style=\"fill:none;stroke:#008000;stroke-linecap:square;stroke-opacity:0.1;stroke-width:1.5;\"/>\r\n   </g>\r\n   <g id=\"line2d_43\">\r\n    <path clip-path=\"url(#pd59b342dcf)\" d=\"M 286.791608 517.154489 \r\nL 286.902245 363.348995 \r\nL 287.252469 353.515549 \r\nL 287.874301 342.441851 \r\nL 288.816008 329.738322 \r\nL 290.168849 314.600308 \r\nL 292.195125 294.596636 \r\nL 297.489827 243.306431 \r\nL 298.766739 228.17209 \r\nL 299.610064 215.599735 \r\nL 300.123479 204.703117 \r\nL 300.360311 195.053382 \r\nL 300.386014 183.74716 \r\nL 300.386014 45.881761 \r\nL 300.386014 45.881761 \r\n\" style=\"fill:none;stroke:#008000;stroke-linecap:square;stroke-opacity:0.1;stroke-width:1.5;\"/>\r\n   </g>\r\n   <g id=\"line2d_44\">\r\n    <path clip-path=\"url(#pd59b342dcf)\" d=\"M 273.197203 517.154489 \r\nL 273.086747 367.509558 \r\nL 272.75563 362.882137 \r\nL 272.204603 358.275725 \r\nL 271.434914 353.700767 \r\nL 270.44831 349.167636 \r\nL 269.247028 344.686611 \r\nL 267.83379 340.267853 \r\nL 266.211803 335.921381 \r\nL 264.384743 331.65705 \r\nL 262.356753 327.484531 \r\nL 260.132432 323.413283 \r\nL 257.716823 319.452538 \r\nL 255.115404 315.611278 \r\nL 252.334073 311.898211 \r\nL 249.379137 308.321758 \r\nL 246.257296 304.890028 \r\nL 242.975629 301.610802 \r\nL 239.541577 298.491515 \r\nL 235.962926 295.539241 \r\nL 232.247791 292.760674 \r\nL 228.404596 290.162114 \r\nL 224.442055 287.749453 \r\nL 220.369153 285.528162 \r\nL 216.195125 283.503278 \r\nL 211.929437 281.679391 \r\nL 207.581759 280.060639 \r\nL 203.16195 278.65069 \r\nL 198.680033 277.452742 \r\nL 194.146169 276.469511 \r\nL 189.570639 275.703227 \r\nL 184.963819 275.155628 \r\nL 180.336152 274.827954 \r\nL 175.698126 274.720922 \r\nL 30.763636 274.720922 \r\nL 30.763636 274.720922 \r\n\" style=\"fill:none;stroke:#008000;stroke-linecap:square;stroke-opacity:0.1;stroke-width:1.5;\"/>\r\n   </g>\r\n   <g id=\"line2d_45\">\r\n    <path clip-path=\"url(#pd59b342dcf)\" d=\"M 273.197203 517.154489 \r\nL 273.086747 353.915153 \r\nL 272.75563 349.287732 \r\nL 272.204603 344.68132 \r\nL 271.434914 340.106361 \r\nL 270.44831 335.57323 \r\nL 269.247028 331.092206 \r\nL 267.83379 326.673447 \r\nL 266.211803 322.326975 \r\nL 264.384743 318.062645 \r\nL 262.356753 313.890125 \r\nL 260.132432 309.818877 \r\nL 257.716823 305.858133 \r\nL 255.115404 302.016872 \r\nL 252.334073 298.303806 \r\nL 249.379137 294.727353 \r\nL 246.257296 291.295622 \r\nL 242.975629 288.016396 \r\nL 239.541577 284.89711 \r\nL 235.962926 281.944836 \r\nL 232.247791 279.166269 \r\nL 228.404596 276.567709 \r\nL 224.442055 274.155048 \r\nL 220.369153 271.933757 \r\nL 216.195125 269.908872 \r\nL 211.929437 268.084986 \r\nL 207.581759 266.466233 \r\nL 203.16195 265.056284 \r\nL 198.680033 263.858336 \r\nL 194.146169 262.875105 \r\nL 189.570639 262.108821 \r\nL 184.963819 261.561222 \r\nL 180.336152 261.233548 \r\nL 175.698126 261.126517 \r\nL 30.763636 261.126517 \r\nL 30.763636 261.126517 \r\n\" style=\"fill:none;stroke:#008000;stroke-linecap:square;stroke-opacity:0.1;stroke-width:1.5;\"/>\r\n   </g>\r\n   <g id=\"line2d_46\">\r\n    <path clip-path=\"url(#pd59b342dcf)\" d=\"M 273.197203 517.154489 \r\nL 273.086747 340.320747 \r\nL 272.75563 335.693326 \r\nL 272.204603 331.086914 \r\nL 271.434914 326.511956 \r\nL 270.44831 321.978825 \r\nL 269.247028 317.4978 \r\nL 267.83379 313.079042 \r\nL 266.211803 308.73257 \r\nL 264.384743 304.468239 \r\nL 262.356753 300.29572 \r\nL 260.132432 296.224472 \r\nL 257.716823 292.263727 \r\nL 255.115404 288.422467 \r\nL 252.334073 284.7094 \r\nL 249.379137 281.132947 \r\nL 246.257296 277.701217 \r\nL 242.975629 274.421991 \r\nL 239.541577 271.302704 \r\nL 235.962926 268.35043 \r\nL 232.247791 265.571863 \r\nL 228.404596 262.973303 \r\nL 224.442055 260.560642 \r\nL 220.369153 258.339351 \r\nL 216.195125 256.314467 \r\nL 211.929437 254.49058 \r\nL 207.581759 252.871827 \r\nL 203.16195 251.461878 \r\nL 198.680033 250.26393 \r\nL 194.146169 249.2807 \r\nL 189.570639 248.514416 \r\nL 184.963819 247.966816 \r\nL 180.336152 247.639143 \r\nL 175.698126 247.532111 \r\nL 30.763636 247.532111 \r\nL 30.763636 247.532111 \r\n\" style=\"fill:none;stroke:#008000;stroke-linecap:square;stroke-opacity:0.1;stroke-width:1.5;\"/>\r\n   </g>\r\n   <g id=\"line2d_47\">\r\n    <path clip-path=\"url(#pd59b342dcf)\" d=\"M 300.386014 517.154489 \r\nL 300.495161 368.632806 \r\nL 300.826685 365.095685 \r\nL 301.379294 361.586304 \r\nL 302.150812 358.118467 \r\nL 303.138206 354.705816 \r\nL 304.337591 351.361775 \r\nL 305.744249 348.099499 \r\nL 307.352647 344.931821 \r\nL 309.156458 341.8712 \r\nL 311.148586 338.929677 \r\nL 313.321195 336.118823 \r\nL 315.665739 333.449694 \r\nL 318.172995 330.932791 \r\nL 320.833099 328.578013 \r\nL 323.635589 326.394625 \r\nL 326.569439 324.391214 \r\nL 329.623109 322.575662 \r\nL 332.784588 320.95511 \r\nL 336.041437 319.535933 \r\nL 339.380847 318.323714 \r\nL 342.789681 317.323221 \r\nL 346.254529 316.53839 \r\nL 349.761762 315.972308 \r\nL 353.297584 315.627202 \r\nL 356.848085 315.504429 \r\nL 395.492478 315.504139 \r\nL 502.036364 315.504139 \r\nL 502.036364 315.504139 \r\n\" style=\"fill:none;stroke:#008000;stroke-linecap:square;stroke-opacity:0.1;stroke-width:1.5;\"/>\r\n   </g>\r\n   <g id=\"line2d_48\">\r\n    <path clip-path=\"url(#pd59b342dcf)\" d=\"M 246.008392 45.881761 \r\nL 246.008392 517.154489 \r\nL 246.008392 517.154489 \r\n\" style=\"fill:none;stroke:#008000;stroke-linecap:square;stroke-opacity:0.1;stroke-width:1.5;\"/>\r\n   </g>\r\n   <g id=\"line2d_49\">\r\n    <path clip-path=\"url(#pd59b342dcf)\" d=\"M 259.602797 45.881761 \r\nL 259.713253 195.526692 \r\nL 260.04437 200.154113 \r\nL 260.595397 204.760525 \r\nL 261.365086 209.335483 \r\nL 262.35169 213.868614 \r\nL 263.552972 218.349639 \r\nL 264.96621 222.768397 \r\nL 266.588197 227.114869 \r\nL 268.415257 231.3792 \r\nL 270.443247 235.551719 \r\nL 272.667568 239.622967 \r\nL 275.083177 243.583712 \r\nL 277.684596 247.424972 \r\nL 280.465927 251.138039 \r\nL 283.420863 254.714492 \r\nL 286.542704 258.146222 \r\nL 289.824371 261.425448 \r\nL 293.258423 264.544735 \r\nL 296.837074 267.497009 \r\nL 300.552209 270.275576 \r\nL 304.395404 272.874136 \r\nL 308.357945 275.286797 \r\nL 312.430847 277.508088 \r\nL 316.604875 279.532972 \r\nL 320.870563 281.356859 \r\nL 325.218241 282.975611 \r\nL 329.63805 284.38556 \r\nL 334.119967 285.583508 \r\nL 338.653831 286.566739 \r\nL 343.229361 287.333023 \r\nL 347.836181 287.880622 \r\nL 352.463848 288.208296 \r\nL 357.101874 288.315328 \r\nL 502.036364 288.315328 \r\nL 502.036364 288.315328 \r\n\" style=\"fill:none;stroke:#008000;stroke-linecap:square;stroke-opacity:0.1;stroke-width:1.5;\"/>\r\n   </g>\r\n   <g id=\"line2d_50\">\r\n    <path clip-path=\"url(#pd59b342dcf)\" d=\"M 246.008392 45.881761 \r\nL 246.119028 199.687255 \r\nL 246.469253 209.520701 \r\nL 247.091084 220.594399 \r\nL 248.032791 233.297928 \r\nL 249.385632 248.435942 \r\nL 251.411908 268.439614 \r\nL 256.70661 319.729819 \r\nL 257.983522 334.86416 \r\nL 258.826847 347.436515 \r\nL 259.340262 358.333133 \r\nL 259.577094 367.982868 \r\nL 259.602797 379.28909 \r\nL 259.602797 517.154489 \r\nL 259.602797 517.154489 \r\n\" style=\"fill:none;stroke:#008000;stroke-linecap:square;stroke-opacity:0.1;stroke-width:1.5;\"/>\r\n   </g>\r\n   <g id=\"line2d_51\">\r\n    <path clip-path=\"url(#pd59b342dcf)\" d=\"M 259.602797 45.881761 \r\nL 259.713253 209.121097 \r\nL 260.04437 213.748518 \r\nL 260.595397 218.35493 \r\nL 261.365086 222.929889 \r\nL 262.35169 227.46302 \r\nL 263.552972 231.944044 \r\nL 264.96621 236.362803 \r\nL 266.588197 240.709275 \r\nL 268.415257 244.973605 \r\nL 270.443247 249.146125 \r\nL 272.667568 253.217373 \r\nL 275.083177 257.178117 \r\nL 277.684596 261.019378 \r\nL 280.465927 264.732444 \r\nL 283.420863 268.308897 \r\nL 286.542704 271.740628 \r\nL 289.824371 275.019854 \r\nL 293.258423 278.13914 \r\nL 296.837074 281.091414 \r\nL 300.552209 283.869981 \r\nL 304.395404 286.468541 \r\nL 308.357945 288.881202 \r\nL 312.430847 291.102493 \r\nL 316.604875 293.127378 \r\nL 320.870563 294.951264 \r\nL 325.218241 296.570017 \r\nL 329.63805 297.979966 \r\nL 334.119967 299.177914 \r\nL 338.653831 300.161145 \r\nL 343.229361 300.927429 \r\nL 347.836181 301.475028 \r\nL 352.463848 301.802702 \r\nL 357.101874 301.909733 \r\nL 502.036364 301.909733 \r\nL 502.036364 301.909733 \r\n\" style=\"fill:none;stroke:#008000;stroke-linecap:square;stroke-opacity:0.1;stroke-width:1.5;\"/>\r\n   </g>\r\n   <g id=\"line2d_52\">\r\n    <path clip-path=\"url(#pd59b342dcf)\" d=\"M 246.008392 45.881761 \r\nL 245.897755 199.687255 \r\nL 245.547531 209.520701 \r\nL 244.925699 220.594399 \r\nL 243.983992 233.297928 \r\nL 242.631151 248.435942 \r\nL 240.604875 268.439614 \r\nL 235.310173 319.729819 \r\nL 234.033261 334.86416 \r\nL 233.189936 347.436515 \r\nL 232.676521 358.333133 \r\nL 232.439689 367.982868 \r\nL 232.413986 379.28909 \r\nL 232.413986 517.154489 \r\nL 232.413986 517.154489 \r\n\" style=\"fill:none;stroke:#008000;stroke-linecap:square;stroke-opacity:0.1;stroke-width:1.5;\"/>\r\n   </g>\r\n   <g id=\"line2d_53\">\r\n    <path clip-path=\"url(#pd59b342dcf)\" d=\"M 259.602797 45.881761 \r\nL 259.713253 222.715503 \r\nL 260.04437 227.342924 \r\nL 260.595397 231.949336 \r\nL 261.365086 236.524294 \r\nL 262.35169 241.057425 \r\nL 263.552972 245.53845 \r\nL 264.96621 249.957208 \r\nL 266.588197 254.30368 \r\nL 268.415257 258.568011 \r\nL 270.443247 262.74053 \r\nL 272.667568 266.811778 \r\nL 275.083177 270.772523 \r\nL 277.684596 274.613783 \r\nL 280.465927 278.32685 \r\nL 283.420863 281.903303 \r\nL 286.542704 285.335033 \r\nL 289.824371 288.614259 \r\nL 293.258423 291.733546 \r\nL 296.837074 294.68582 \r\nL 300.552209 297.464387 \r\nL 304.395404 300.062947 \r\nL 308.357945 302.475608 \r\nL 312.430847 304.696899 \r\nL 316.604875 306.721783 \r\nL 320.870563 308.54567 \r\nL 325.218241 310.164423 \r\nL 329.63805 311.574372 \r\nL 334.119967 312.77232 \r\nL 338.653831 313.75555 \r\nL 343.229361 314.521834 \r\nL 347.836181 315.069434 \r\nL 352.463848 315.397107 \r\nL 357.101874 315.504139 \r\nL 502.036364 315.504139 \r\nL 502.036364 315.504139 \r\n\" style=\"fill:none;stroke:#008000;stroke-linecap:square;stroke-opacity:0.1;stroke-width:1.5;\"/>\r\n   </g>\r\n   <g id=\"line2d_54\">\r\n    <path clip-path=\"url(#pd59b342dcf)\" d=\"M 502.036364 247.532111 \r\nL 353.514681 247.422964 \r\nL 349.97756 247.09144 \r\nL 346.468179 246.538831 \r\nL 343.000342 245.767313 \r\nL 339.587691 244.779919 \r\nL 336.24365 243.580534 \r\nL 332.981374 242.173876 \r\nL 329.813696 240.565478 \r\nL 326.753075 238.761667 \r\nL 323.811552 236.769539 \r\nL 321.000698 234.59693 \r\nL 318.331569 232.252386 \r\nL 315.814666 229.74513 \r\nL 313.459888 227.085026 \r\nL 311.2765 224.282536 \r\nL 309.273089 221.348686 \r\nL 307.457537 218.295016 \r\nL 305.836985 215.133537 \r\nL 304.417808 211.876688 \r\nL 303.205589 208.537278 \r\nL 302.205096 205.128444 \r\nL 301.420265 201.663596 \r\nL 300.854183 198.156363 \r\nL 300.509077 194.620541 \r\nL 300.386304 191.07004 \r\nL 300.386014 152.425647 \r\nL 300.386014 45.881761 \r\nL 300.386014 45.881761 \r\n\" style=\"fill:none;stroke:#008000;stroke-linecap:square;stroke-opacity:0.1;stroke-width:1.5;\"/>\r\n   </g>\r\n   <g id=\"line2d_55\">\r\n    <path clip-path=\"url(#pd59b342dcf)\" d=\"M 232.413986 45.881761 \r\nL 232.304839 194.403444 \r\nL 231.973315 197.940565 \r\nL 231.420706 201.449946 \r\nL 230.649188 204.917783 \r\nL 229.661794 208.330434 \r\nL 228.462409 211.674475 \r\nL 227.055751 214.936751 \r\nL 225.447353 218.104429 \r\nL 223.643542 221.16505 \r\nL 221.651414 224.106573 \r\nL 219.478805 226.917427 \r\nL 217.134261 229.586556 \r\nL 214.627005 232.103459 \r\nL 211.966901 234.458237 \r\nL 209.164411 236.641625 \r\nL 206.230561 238.645036 \r\nL 203.176891 240.460588 \r\nL 200.015412 242.08114 \r\nL 196.758563 243.500317 \r\nL 193.419153 244.712536 \r\nL 190.010319 245.713029 \r\nL 186.545471 246.49786 \r\nL 183.038238 247.063942 \r\nL 179.502416 247.409048 \r\nL 175.951915 247.531821 \r\nL 137.307522 247.532111 \r\nL 30.763636 247.532111 \r\nL 30.763636 247.532111 \r\n\" style=\"fill:none;stroke:#008000;stroke-linecap:square;stroke-opacity:0.1;stroke-width:1.5;\"/>\r\n   </g>\r\n   <g id=\"line2d_56\">\r\n    <path clip-path=\"url(#pd59b342dcf)\" d=\"M 30.763636 315.504139 \r\nL 179.285319 315.613286 \r\nL 182.82244 315.94481 \r\nL 186.331821 316.497419 \r\nL 189.799658 317.268937 \r\nL 193.212309 318.256331 \r\nL 196.55635 319.455716 \r\nL 199.818626 320.862374 \r\nL 202.986304 322.470772 \r\nL 206.046925 324.274583 \r\nL 208.988448 326.266711 \r\nL 211.799302 328.43932 \r\nL 214.468431 330.783864 \r\nL 216.985334 333.29112 \r\nL 219.340112 335.951224 \r\nL 221.5235 338.753714 \r\nL 223.526911 341.687564 \r\nL 225.342463 344.741234 \r\nL 226.963015 347.902713 \r\nL 228.382192 351.159562 \r\nL 229.594411 354.498972 \r\nL 230.594904 357.907806 \r\nL 231.379735 361.372654 \r\nL 231.945817 364.879887 \r\nL 232.290923 368.415709 \r\nL 232.413696 371.96621 \r\nL 232.413986 410.610603 \r\nL 232.413986 517.154489 \r\nL 232.413986 517.154489 \r\n\" style=\"fill:none;stroke:#008000;stroke-linecap:square;stroke-opacity:0.1;stroke-width:1.5;\"/>\r\n   </g>\r\n   <g id=\"text_1\">\r\n    <!-- Intersection -->\r\n    <defs>\r\n     <path d=\"M 9.8125 72.90625 \r\nL 19.671875 72.90625 \r\nL 19.671875 0 \r\nL 9.8125 0 \r\nz\r\n\" id=\"DejaVuSans-73\"/>\r\n     <path d=\"M 54.890625 33.015625 \r\nL 54.890625 0 \r\nL 45.90625 0 \r\nL 45.90625 32.71875 \r\nQ 45.90625 40.484375 42.875 44.328125 \r\nQ 39.84375 48.1875 33.796875 48.1875 \r\nQ 26.515625 48.1875 22.3125 43.546875 \r\nQ 18.109375 38.921875 18.109375 30.90625 \r\nL 18.109375 0 \r\nL 9.078125 0 \r\nL 9.078125 54.6875 \r\nL 18.109375 54.6875 \r\nL 18.109375 46.1875 \r\nQ 21.34375 51.125 25.703125 53.5625 \r\nQ 30.078125 56 35.796875 56 \r\nQ 45.21875 56 50.046875 50.171875 \r\nQ 54.890625 44.34375 54.890625 33.015625 \r\nz\r\n\" id=\"DejaVuSans-110\"/>\r\n     <path d=\"M 18.3125 70.21875 \r\nL 18.3125 54.6875 \r\nL 36.8125 54.6875 \r\nL 36.8125 47.703125 \r\nL 18.3125 47.703125 \r\nL 18.3125 18.015625 \r\nQ 18.3125 11.328125 20.140625 9.421875 \r\nQ 21.96875 7.515625 27.59375 7.515625 \r\nL 36.8125 7.515625 \r\nL 36.8125 0 \r\nL 27.59375 0 \r\nQ 17.1875 0 13.234375 3.875 \r\nQ 9.28125 7.765625 9.28125 18.015625 \r\nL 9.28125 47.703125 \r\nL 2.6875 47.703125 \r\nL 2.6875 54.6875 \r\nL 9.28125 54.6875 \r\nL 9.28125 70.21875 \r\nz\r\n\" id=\"DejaVuSans-116\"/>\r\n     <path d=\"M 56.203125 29.59375 \r\nL 56.203125 25.203125 \r\nL 14.890625 25.203125 \r\nQ 15.484375 15.921875 20.484375 11.0625 \r\nQ 25.484375 6.203125 34.421875 6.203125 \r\nQ 39.59375 6.203125 44.453125 7.46875 \r\nQ 49.3125 8.734375 54.109375 11.28125 \r\nL 54.109375 2.78125 \r\nQ 49.265625 0.734375 44.1875 -0.34375 \r\nQ 39.109375 -1.421875 33.890625 -1.421875 \r\nQ 20.796875 -1.421875 13.15625 6.1875 \r\nQ 5.515625 13.8125 5.515625 26.8125 \r\nQ 5.515625 40.234375 12.765625 48.109375 \r\nQ 20.015625 56 32.328125 56 \r\nQ 43.359375 56 49.78125 48.890625 \r\nQ 56.203125 41.796875 56.203125 29.59375 \r\nz\r\nM 47.21875 32.234375 \r\nQ 47.125 39.59375 43.09375 43.984375 \r\nQ 39.0625 48.390625 32.421875 48.390625 \r\nQ 24.90625 48.390625 20.390625 44.140625 \r\nQ 15.875 39.890625 15.1875 32.171875 \r\nz\r\n\" id=\"DejaVuSans-101\"/>\r\n     <path d=\"M 41.109375 46.296875 \r\nQ 39.59375 47.171875 37.8125 47.578125 \r\nQ 36.03125 48 33.890625 48 \r\nQ 26.265625 48 22.1875 43.046875 \r\nQ 18.109375 38.09375 18.109375 28.8125 \r\nL 18.109375 0 \r\nL 9.078125 0 \r\nL 9.078125 54.6875 \r\nL 18.109375 54.6875 \r\nL 18.109375 46.1875 \r\nQ 20.953125 51.171875 25.484375 53.578125 \r\nQ 30.03125 56 36.53125 56 \r\nQ 37.453125 56 38.578125 55.875 \r\nQ 39.703125 55.765625 41.0625 55.515625 \r\nz\r\n\" id=\"DejaVuSans-114\"/>\r\n     <path d=\"M 44.28125 53.078125 \r\nL 44.28125 44.578125 \r\nQ 40.484375 46.53125 36.375 47.5 \r\nQ 32.28125 48.484375 27.875 48.484375 \r\nQ 21.1875 48.484375 17.84375 46.4375 \r\nQ 14.5 44.390625 14.5 40.28125 \r\nQ 14.5 37.15625 16.890625 35.375 \r\nQ 19.28125 33.59375 26.515625 31.984375 \r\nL 29.59375 31.296875 \r\nQ 39.15625 29.25 43.1875 25.515625 \r\nQ 47.21875 21.78125 47.21875 15.09375 \r\nQ 47.21875 7.46875 41.1875 3.015625 \r\nQ 35.15625 -1.421875 24.609375 -1.421875 \r\nQ 20.21875 -1.421875 15.453125 -0.5625 \r\nQ 10.6875 0.296875 5.421875 2 \r\nL 5.421875 11.28125 \r\nQ 10.40625 8.6875 15.234375 7.390625 \r\nQ 20.0625 6.109375 24.8125 6.109375 \r\nQ 31.15625 6.109375 34.5625 8.28125 \r\nQ 37.984375 10.453125 37.984375 14.40625 \r\nQ 37.984375 18.0625 35.515625 20.015625 \r\nQ 33.0625 21.96875 24.703125 23.78125 \r\nL 21.578125 24.515625 \r\nQ 13.234375 26.265625 9.515625 29.90625 \r\nQ 5.8125 33.546875 5.8125 39.890625 \r\nQ 5.8125 47.609375 11.28125 51.796875 \r\nQ 16.75 56 26.8125 56 \r\nQ 31.78125 56 36.171875 55.265625 \r\nQ 40.578125 54.546875 44.28125 53.078125 \r\nz\r\n\" id=\"DejaVuSans-115\"/>\r\n     <path d=\"M 48.78125 52.59375 \r\nL 48.78125 44.1875 \r\nQ 44.96875 46.296875 41.140625 47.34375 \r\nQ 37.3125 48.390625 33.40625 48.390625 \r\nQ 24.65625 48.390625 19.8125 42.84375 \r\nQ 14.984375 37.3125 14.984375 27.296875 \r\nQ 14.984375 17.28125 19.8125 11.734375 \r\nQ 24.65625 6.203125 33.40625 6.203125 \r\nQ 37.3125 6.203125 41.140625 7.25 \r\nQ 44.96875 8.296875 48.78125 10.40625 \r\nL 48.78125 2.09375 \r\nQ 45.015625 0.34375 40.984375 -0.53125 \r\nQ 36.96875 -1.421875 32.421875 -1.421875 \r\nQ 20.0625 -1.421875 12.78125 6.34375 \r\nQ 5.515625 14.109375 5.515625 27.296875 \r\nQ 5.515625 40.671875 12.859375 48.328125 \r\nQ 20.21875 56 33.015625 56 \r\nQ 37.15625 56 41.109375 55.140625 \r\nQ 45.0625 54.296875 48.78125 52.59375 \r\nz\r\n\" id=\"DejaVuSans-99\"/>\r\n     <path d=\"M 9.421875 54.6875 \r\nL 18.40625 54.6875 \r\nL 18.40625 0 \r\nL 9.421875 0 \r\nz\r\nM 9.421875 75.984375 \r\nL 18.40625 75.984375 \r\nL 18.40625 64.59375 \r\nL 9.421875 64.59375 \r\nz\r\n\" id=\"DejaVuSans-105\"/>\r\n     <path d=\"M 30.609375 48.390625 \r\nQ 23.390625 48.390625 19.1875 42.75 \r\nQ 14.984375 37.109375 14.984375 27.296875 \r\nQ 14.984375 17.484375 19.15625 11.84375 \r\nQ 23.34375 6.203125 30.609375 6.203125 \r\nQ 37.796875 6.203125 41.984375 11.859375 \r\nQ 46.1875 17.53125 46.1875 27.296875 \r\nQ 46.1875 37.015625 41.984375 42.703125 \r\nQ 37.796875 48.390625 30.609375 48.390625 \r\nz\r\nM 30.609375 56 \r\nQ 42.328125 56 49.015625 48.375 \r\nQ 55.71875 40.765625 55.71875 27.296875 \r\nQ 55.71875 13.875 49.015625 6.21875 \r\nQ 42.328125 -1.421875 30.609375 -1.421875 \r\nQ 18.84375 -1.421875 12.171875 6.21875 \r\nQ 5.515625 13.875 5.515625 27.296875 \r\nQ 5.515625 40.765625 12.171875 48.375 \r\nQ 18.84375 56 30.609375 56 \r\nz\r\n\" id=\"DejaVuSans-111\"/>\r\n    </defs>\r\n    <g transform=\"translate(230.7075 16.318125)scale(0.12 -0.12)\">\r\n     <use xlink:href=\"#DejaVuSans-73\"/>\r\n     <use x=\"29.492188\" xlink:href=\"#DejaVuSans-110\"/>\r\n     <use x=\"92.871094\" xlink:href=\"#DejaVuSans-116\"/>\r\n     <use x=\"132.080078\" xlink:href=\"#DejaVuSans-101\"/>\r\n     <use x=\"193.603516\" xlink:href=\"#DejaVuSans-114\"/>\r\n     <use x=\"234.716797\" xlink:href=\"#DejaVuSans-115\"/>\r\n     <use x=\"286.816406\" xlink:href=\"#DejaVuSans-101\"/>\r\n     <use x=\"348.339844\" xlink:href=\"#DejaVuSans-99\"/>\r\n     <use x=\"403.320312\" xlink:href=\"#DejaVuSans-116\"/>\r\n     <use x=\"442.529297\" xlink:href=\"#DejaVuSans-105\"/>\r\n     <use x=\"470.3125\" xlink:href=\"#DejaVuSans-111\"/>\r\n     <use x=\"531.494141\" xlink:href=\"#DejaVuSans-110\"/>\r\n    </g>\r\n   </g>\r\n  </g>\r\n </g>\r\n <defs>\r\n  <clipPath id=\"pd59b342dcf\">\r\n   <rect height=\"518.4\" width=\"518.4\" x=\"7.2\" y=\"22.318125\"/>\r\n  </clipPath>\r\n </defs>\r\n</svg>\r\n",
      "image/png": "[encoded data removed]"
     },
     "metadata": {},
     "execution_count": 33
    }
   ],
   "source": [
    "[l[0].remove() for l in line]\n",
    "fig"
   ]
  },
  {
   "cell_type": "code",
   "execution_count": 1,
   "metadata": {},
   "outputs": [],
   "source": [
    "l1 = [{'ego1': 23.600000000000065, 'ego4': 24.500000000000078}, {'ego4': 20.300000000000182, 'ego1': 24.200000000000237}, {'ego4': 20.30000000000029, 'ego1': 24.200000000000344}, {'ego4': 20.30000000000029, 'ego1': 24.200000000000344}, {'ego4': 20.30000000000029, 'ego1': 24.20000000000033}, {'ego4': 20.29999999999984, 'ego1': 24.19999999999962}, {'ego4': 20.29999999999913, 'ego1': 24.19999999999891}, {}, {}, {}, {'ego1': 53.99999999999693, 'ego4': 54.799999999996885}, {'ego4': 44.29999999999748, 'ego1': 44.89999999999745}, {'ego1': 33.99999999999807, 'ego4': 34.899999999998016}]"
   ]
  },
  {
   "cell_type": "code",
   "execution_count": 2,
   "metadata": {},
   "outputs": [
    {
     "output_type": "execute_result",
     "data": {
      "text/plain": [
       "13"
      ]
     },
     "metadata": {},
     "execution_count": 2
    }
   ],
   "source": [
    "len(l1)"
   ]
  },
  {
   "cell_type": "code",
   "execution_count": null,
   "metadata": {},
   "outputs": [],
   "source": [
    "from multiprocessing import Pool\n",
    "\n",
    "def f(x):\n",
    "    return x*x\n",
    "with Pool(5) as p:\n",
    "    print(p.map(f, [1, 2, 3]))"
   ]
  },
  {
   "cell_type": "code",
   "execution_count": 1,
   "metadata": {},
   "outputs": [],
   "source": [
    "import numpy as np \n"
   ]
  },
  {
   "cell_type": "code",
   "execution_count": 74,
   "metadata": {},
   "outputs": [
    {
     "output_type": "execute_result",
     "data": {
      "text/plain": [
       "[4697, 3730, 3155, 5163, 5092, 3476, 4207, 5542, 4291, 6161, 6231, 5495]"
      ]
     },
     "metadata": {},
     "execution_count": 74
    }
   ],
   "source": [
    "random_list = np.random.randint(3000,7000, 12)\n",
    "random_list.tolist()"
   ]
  },
  {
   "cell_type": "code",
   "execution_count": 8,
   "metadata": {},
   "outputs": [
    {
     "output_type": "execute_result",
     "data": {
      "text/plain": [
       "array([5.52378001, 4.66332083, 5.86457404, 4.03561472, 3.74675493,\n",
       "       5.05515527, 5.20807216, 4.00224055, 5.6017632 , 3.64967247,\n",
       "       3.26883156, 3.14655502, 3.46977295, 5.77052192, 3.16625355,\n",
       "       5.28169763, 3.19578836, 3.5966021 , 4.91434647, 5.47843778,\n",
       "       5.38213871, 4.04802852, 4.20763984, 4.88014733, 3.98121432,\n",
       "       5.93480219])"
      ]
     },
     "metadata": {},
     "execution_count": 8
    }
   ],
   "source": [
    "random_array = 3 + np.random.rand(26) * 3\n",
    "random_array"
   ]
  },
  {
   "cell_type": "code",
   "execution_count": 12,
   "metadata": {},
   "outputs": [
    {
     "output_type": "execute_result",
     "data": {
      "text/plain": [
       "[[4431, 6518, 3757, 6151, 6060, 6031],\n",
       " [3233, 4473, 4284, 4441, 3615, 6833],\n",
       " [5946, 5161, 5957, 5850, 5999, 4481],\n",
       " [6570, 4296, 3587, 3232, 5650, 3768],\n",
       " [5410, 5522, 3028, 4667, 3080, 3882],\n",
       " [3568, 6895, 3696, 4908, 6027, 6799],\n",
       " [4045, 5717, 4595, 5000, 6488, 5006],\n",
       " [4581, 5811, 5701, 5854, 4989, 4067],\n",
       " [5228, 3739, 4873, 5650, 3111, 6318],\n",
       " [3826, 3845, 6921, 6874, 3145, 5582],\n",
       " [6840, 3612, 5118, 5150, 4196, 5181],\n",
       " [5663, 5766, 5342, 6785, 5266, 4888]]"
      ]
     },
     "metadata": {},
     "execution_count": 12
    }
   ],
   "source": [
    "np.random.randint(3000,7000, (12, 6)).tolist()"
   ]
  },
  {
   "cell_type": "code",
   "execution_count": 1,
   "metadata": {},
   "outputs": [
    {
     "output_type": "error",
     "ename": "TypeError",
     "evalue": "'int' object is not iterable",
     "traceback": [
      "\u001b[1;31m---------------------------------------------------------------------------\u001b[0m",
      "\u001b[1;31mTypeError\u001b[0m                                 Traceback (most recent call last)",
      "\u001b[1;32m<ipython-input-1-7e3880f6e9ef>\u001b[0m in \u001b[0;36m<module>\u001b[1;34m\u001b[0m\n\u001b[1;32m----> 1\u001b[1;33m \u001b[1;32mfor\u001b[0m \u001b[0mi\u001b[0m \u001b[1;32min\u001b[0m \u001b[1;36m0\u001b[0m\u001b[1;33m:\u001b[0m\u001b[1;33m\u001b[0m\u001b[1;33m\u001b[0m\u001b[0m\n\u001b[0m\u001b[0;32m      2\u001b[0m     \u001b[0mprint\u001b[0m\u001b[1;33m(\u001b[0m\u001b[0mi\u001b[0m\u001b[1;33m)\u001b[0m\u001b[1;33m\u001b[0m\u001b[1;33m\u001b[0m\u001b[0m\n",
      "\u001b[1;31mTypeError\u001b[0m: 'int' object is not iterable"
     ]
    }
   ],
   "source": [
    "for i in [0]:\n",
    "    print(i)"
   ]
  }
 ]
}
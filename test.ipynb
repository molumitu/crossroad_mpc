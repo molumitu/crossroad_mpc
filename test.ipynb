{
 "metadata": {
  "language_info": {
   "codemirror_mode": {
    "name": "ipython",
    "version": 3
   },
   "file_extension": ".py",
   "mimetype": "text/x-python",
   "name": "python",
   "nbconvert_exporter": "python",
   "pygments_lexer": "ipython3",
   "version": "3.8.3-final"
  },
  "orig_nbformat": 2,
  "kernelspec": {
   "name": "python3",
   "display_name": "Python 3",
   "language": "python"
  }
 },
 "nbformat": 4,
 "nbformat_minor": 2,
 "cells": [
  {
   "cell_type": "code",
   "execution_count": 5,
   "metadata": {},
   "outputs": [
    {
     "output_type": "execute_result",
     "data": {
      "text/plain": [
       "{'left': ['ud', 'ud'],\n",
       " 'straight': ['dl', 'du', 'du', 'ud', 'ud', 'ru', 'ru', 'ur', 'ur'],\n",
       " 'right': ['dr', 'ur', 'ur', 'lr', 'lr']}"
      ]
     },
     "metadata": {},
     "execution_count": 5
    }
   ],
   "source": [
    "from collections import OrderedDict\n",
    "VEHICLE_MODE_DICT = dict(\n",
    "    #left=OrderedDict(dl=2, du=2, ud=2, ul=2),\n",
    "    left  = OrderedDict(dl=0, du=0, ud=2, ul=0),\n",
    "                         straight=OrderedDict(dl=1, du=2, ud=2, ru=2, ur=2),\n",
    "                         right=OrderedDict(dr=1, ur=2, lr=2))\n",
    "\n",
    "def dict2flat(inp):\n",
    "    out = []\n",
    "    for key, val in inp.items():\n",
    "        out.extend([key]*val)\n",
    "    return out\n",
    "\n",
    "def dict2num(inp):\n",
    "    out = 0\n",
    "    for _, val in inp.items():\n",
    "        out += val\n",
    "    return out\n",
    "\n",
    "VEH_NUM = dict(left=dict2num(VEHICLE_MODE_DICT['left']),\n",
    "               straight=dict2num(VEHICLE_MODE_DICT['straight']),\n",
    "               right=dict2num(VEHICLE_MODE_DICT['right']))\n",
    "\n",
    "VEHICLE_MODE_LIST = dict(left=dict2flat(VEHICLE_MODE_DICT['left']),\n",
    "                         straight=dict2flat(VEHICLE_MODE_DICT['straight']),\n",
    "                         right=dict2flat(VEHICLE_MODE_DICT['right']))\n",
    "VEHICLE_MODE_LIST"
   ]
  },
  {
   "cell_type": "code",
   "execution_count": 6,
   "metadata": {},
   "outputs": [
    {
     "output_type": "execute_result",
     "data": {
      "text/plain": [
       "{'left': 2, 'straight': 9, 'right': 5}"
      ]
     },
     "metadata": {},
     "execution_count": 6
    }
   ],
   "source": [
    "VEH_NUM"
   ]
  },
  {
   "cell_type": "code",
   "execution_count": 16,
   "metadata": {},
   "outputs": [],
   "source": [
    "%matplotlib inline\n",
    "import matplotlib.pyplot as plt"
   ]
  },
  {
   "cell_type": "code",
   "execution_count": 22,
   "metadata": {},
   "outputs": [
    {
     "output_type": "execute_result",
     "data": {
      "text/plain": [
       "array([[1],\n",
       "       [2],\n",
       "       [3],\n",
       "       [4]])"
      ]
     },
     "metadata": {},
     "execution_count": 22
    }
   ],
   "source": [
    "import numpy as np\n",
    "np.stack([[1],[2],[3],[4]],0)"
   ]
  },
  {
   "cell_type": "code",
   "execution_count": 36,
   "metadata": {},
   "outputs": [
    {
     "output_type": "error",
     "ename": "SyntaxError",
     "evalue": "invalid syntax (<ipython-input-36-1bc85eec3546>, line 3)",
     "traceback": [
      "\u001b[1;36m  File \u001b[1;32m\"<ipython-input-36-1bc85eec3546>\"\u001b[1;36m, line \u001b[1;32m3\u001b[0m\n\u001b[1;33m    xs_reduced =\u001b[0m\n\u001b[1;37m                 ^\u001b[0m\n\u001b[1;31mSyntaxError\u001b[0m\u001b[1;31m:\u001b[0m invalid syntax\n"
     ]
    }
   ],
   "source": [
    "\n",
    "xs = np.array([i for i in range(100)])\n",
    "reduced = np.arange(0, 100, 10)\n",
    "xs_reduced = xs()\n"
   ]
  },
  {
   "cell_type": "code",
   "execution_count": 28,
   "metadata": {},
   "outputs": [
    {
     "output_type": "execute_result",
     "data": {
      "text/plain": [
       "array([[ 0,  0,  0,  0,  0,  0,  0,  0,  0,  0],\n",
       "       [10, 10, 10, 10, 10, 10, 10, 10, 10, 10],\n",
       "       [20, 20, 20, 20, 20, 20, 20, 20, 20, 20],\n",
       "       [30, 30, 30, 30, 30, 30, 30, 30, 30, 30],\n",
       "       [40, 40, 40, 40, 40, 40, 40, 40, 40, 40],\n",
       "       [50, 50, 50, 50, 50, 50, 50, 50, 50, 50],\n",
       "       [60, 60, 60, 60, 60, 60, 60, 60, 60, 60],\n",
       "       [70, 70, 70, 70, 70, 70, 70, 70, 70, 70],\n",
       "       [80, 80, 80, 80, 80, 80, 80, 80, 80, 80],\n",
       "       [90, 90, 90, 90, 90, 90, 90, 90, 90, 90]])"
      ]
     },
     "metadata": {},
     "execution_count": 28
    }
   ],
   "source": [
    "xs_tile = np.tile(np.reshape(xs, (-1, 1)), [1, 10])\n",
    "xs_tile"
   ]
  },
  {
   "cell_type": "code",
   "execution_count": 48,
   "metadata": {},
   "outputs": [
    {
     "output_type": "execute_result",
     "data": {
      "text/plain": [
       "array([10], dtype=int64)"
      ]
     },
     "metadata": {},
     "execution_count": 48
    }
   ],
   "source": [
    "x = np.array([i for i in range(100)])\n",
    "y = np.array([i for i in range(100)])\n",
    "xs = np.array([12])\n",
    "ys = np.array([12])\n",
    "path_len = 100\n",
    "ratio = 10\n",
    "reduced_idx = np.arange(0, path_len, ratio)\n",
    "reduced_len = len(reduced_idx)\n",
    "reduced_path_x, reduced_path_y = x[reduced_idx], y[reduced_idx]\n",
    "\n",
    "xs_tile = np.tile(np.reshape(xs, (-1, 1)), [1, reduced_len])\n",
    "ys_tile = np.tile(np.reshape(ys, (-1, 1)), [1, reduced_len])\n",
    "\n",
    "pathx_tile = np.tile(np.reshape(reduced_path_x, (1, -1)), [len(xs), 1])\n",
    "pathy_tile = np.tile(np.reshape(reduced_path_y, (1, -1)), [len(ys), 1])\n",
    "\n",
    "dist_array = np.square(xs_tile - pathx_tile) + np.square(ys_tile - pathy_tile)\n",
    "\n",
    "indexs = np.argmin(dist_array, 1) * ratio\n",
    "indexs"
   ]
  },
  {
   "cell_type": "code",
   "execution_count": 50,
   "metadata": {},
   "outputs": [
    {
     "output_type": "execute_result",
     "data": {
      "text/plain": [
       "array([[  288,     8,   128,   648,  1568,  2888,  4608,  6728,  9248,\n",
       "        12168]], dtype=int32)"
      ]
     },
     "metadata": {},
     "execution_count": 50
    }
   ],
   "source": [
    "dist_array"
   ]
  },
  {
   "cell_type": "code",
   "execution_count": 58,
   "metadata": {},
   "outputs": [
    {
     "output_type": "execute_result",
     "data": {
      "text/plain": [
       "array([ 288,    8,  128,  648, 1568, 2888, 4608, 6728,    1,    1])"
      ]
     },
     "metadata": {},
     "execution_count": 58
    }
   ],
   "source": [
    "np.concatenate((dist_array.squeeze()[:-2],np.array([1,1])),axis = 0)"
   ]
  },
  {
   "cell_type": "code",
   "execution_count": 59,
   "metadata": {},
   "outputs": [
    {
     "output_type": "execute_result",
     "data": {
      "text/plain": [
       "array([ 9248, 12168], dtype=int32)"
      ]
     },
     "metadata": {},
     "execution_count": 59
    }
   ],
   "source": [
    "dist_array.squeeze()[-2:]"
   ]
  },
  {
   "cell_type": "code",
   "execution_count": 3,
   "metadata": {},
   "outputs": [
    {
     "output_type": "execute_result",
     "data": {
      "text/plain": [
       "array([1, 1, 2])"
      ]
     },
     "metadata": {},
     "execution_count": 3
    }
   ],
   "source": [
    "import numpy as np \n",
    "a = np.array([1, 1, 2])\n",
    "a"
   ]
  },
  {
   "cell_type": "code",
   "execution_count": 4,
   "metadata": {},
   "outputs": [
    {
     "output_type": "execute_result",
     "data": {
      "text/plain": [
       "array([[1, 1, 2]])"
      ]
     },
     "metadata": {},
     "execution_count": 4
    }
   ],
   "source": [
    "a[np.newaxis,:]"
   ]
  }
 ]
}